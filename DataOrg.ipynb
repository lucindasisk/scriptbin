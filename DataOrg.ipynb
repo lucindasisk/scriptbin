{
 "cells": [
  {
   "cell_type": "code",
   "execution_count": 43,
   "metadata": {},
   "outputs": [],
   "source": [
    "from os import path, makedirs, rename\n",
    "from glob import glob\n",
    "from pandas import Series\n",
    "from shutil import copyfile\n",
    "import re"
   ]
  },
  {
   "cell_type": "code",
   "execution_count": 2,
   "metadata": {},
   "outputs": [],
   "source": [
    "home = '/Volumes/iang/active/BABIES'\n",
    "homec = home + '/BABIES_Crossectional/BABIES_Crossectional-T1'\n",
    "subsc = Series(glob(homec + '/*-C-T1')).str.replace(homec + '/', '')\n",
    "newdir = '/Users/myelin/Desktop'"
   ]
  },
  {
   "cell_type": "code",
   "execution_count": 12,
   "metadata": {},
   "outputs": [],
   "source": [
    "copy_ready = []\n",
    "doesntexist = []\n",
    "def check_file(file):\n",
    "    if path.exists(file):\n",
    "        if path.exists(newdir+'/BABIES_Crossectional/'+sub):\n",
    "            print('Path exists for {}'.format(file))\n",
    "            copy_ready.append(file)\n",
    "        else:\n",
    "            makedirs(newdir+'/BABIES_Crossectional/'+sub)\n",
    "            copy_ready.append(file)\n",
    "    else:\n",
    "        print('Could not find {}'.format(file))\n",
    "        doesntexist.append(file)"
   ]
  },
  {
   "cell_type": "code",
   "execution_count": 39,
   "metadata": {},
   "outputs": [
    {
     "name": "stdout",
     "output_type": "stream",
     "text": [
      "Path exists for /Volumes/iang/active/BABIES/BABIES_Crossectional/BABIES_Crossectional-T1/110-C-T1/anat/t1w/t1w.nii.gz\n",
      "Path exists for /Volumes/iang/active/BABIES/BABIES_Crossectional/BABIES_Crossectional-T1/110-C-T1/anat/t2w/t2w.nii.gz\n",
      "Path exists for /Volumes/iang/active/BABIES/BABIES_Crossectional/BABIES_Crossectional-T1/110-C-T1/anat/qt1/recon/qt1_pe1.nii.gz\n",
      "Path exists for /Volumes/iang/active/BABIES/BABIES_Crossectional/BABIES_Crossectional-T1/110-C-T1/anat/qt1/recon/qt1_pe0.nii.gz\n",
      "Path exists for /Volumes/iang/active/BABIES/BABIES_Crossectional/BABIES_Crossectional-T1/110-C-T1/anat/dwi/recon/dti_pe1.bvec\n",
      "Path exists for /Volumes/iang/active/BABIES/BABIES_Crossectional/BABIES_Crossectional-T1/110-C-T1/anat/dwi/recon/dti_pe1.bval\n",
      "Path exists for /Volumes/iang/active/BABIES/BABIES_Crossectional/BABIES_Crossectional-T1/110-C-T1/anat/dwi/recon/dti_pe0_ms103.bvec\n",
      "Path exists for /Volumes/iang/active/BABIES/BABIES_Crossectional/BABIES_Crossectional-T1/110-C-T1/anat/dwi/recon/dti_pe0_ms103.bval\n",
      "Path exists for /Volumes/iang/active/BABIES/BABIES_Crossectional/BABIES_Crossectional-T1/110-C-T1/functional/rest/recon/rest.den.nii.gz\n",
      "Path exists for /Volumes/iang/active/BABIES/BABIES_Crossectional/BABIES_Crossectional-T1/110-C-T1/functional/rest/recon/rest.nii.gz\n",
      "Path exists for /Volumes/iang/active/BABIES/BABIES_Crossectional/BABIES_Crossectional-T1/110-C-T1/functional/asl/asl.nii.gz\n"
     ]
    }
   ],
   "source": [
    "subs = ['110-C-T1']\n",
    "for sub in subs:\n",
    "    t1 = homec+'/'+sub+'/anat/t1w/t1w.nii.gz'\n",
    "    t2 = homec+'/'+sub+'/anat/t2w/t2w.nii.gz'\n",
    "    qt1pe1 = homec+'/'+sub+'/anat/qt1/recon/qt1_pe1.nii.gz'\n",
    "    qt1pe0 = homec+'/'+sub+'/anat/qt1/recon/qt1_pe0.nii.gz'\n",
    "    dtipe1 = homec+'/'+sub+'/anat/dwi/recon/DTI_pe1.nii.gz'\n",
    "    dtipe0 = homec+'/'+sub+'/anat/dwi/recon/DTI_pe0_ms103.nii.gz'\n",
    "    pe1bvec = homec+'/'+sub+'/anat/dwi/recon/dti_pe1.bvec'\n",
    "    pe1bval = homec+'/'+sub+'/anat/dwi/recon/dti_pe1.bval'\n",
    "    pe0bvec = homec+'/'+sub+'/anat/dwi/recon/dti_pe0_ms103.bvec'\n",
    "    pe0bval = homec+'/'+sub+'/anat/dwi/recon/dti_pe0_ms103.bval'\n",
    "    rest_den = homec+ '/'+sub+ '/functional/rest/recon/rest.den.nii.gz'\n",
    "    rest = homec+ '/'+sub+ '/functional/rest/recon/rest.nii.gz'\n",
    "    asl = homec+ '/'+sub+ '/functional/asl/asl.nii.gz'\n",
    "    \n",
    "    files = [t1, t2, qt1pe1, qt1pe0, pe1bvec, pe1bval, pe0bvec, pe0bval, rest_den, rest, asl]\n",
    "    \n",
    "    for file in files:\n",
    "        check_file(file)"
   ]
  },
  {
   "cell_type": "code",
   "execution_count": 40,
   "metadata": {},
   "outputs": [
    {
     "name": "stdout",
     "output_type": "stream",
     "text": [
      "File already copied\n",
      "File already copied\n",
      "File already copied\n",
      "File already copied\n",
      "File already copied\n",
      "File already copied\n",
      "File already copied\n",
      "File already copied\n",
      "File already copied\n",
      "File already copied\n",
      "File already copied\n",
      "File already copied\n",
      "File already copied\n",
      "File already copied\n",
      "File already copied\n",
      "File already copied\n",
      "File already copied\n",
      "File already copied\n",
      "File already copied\n",
      "File already copied\n",
      "File already copied\n",
      "File already copied\n"
     ]
    }
   ],
   "source": [
    "for x in copy_ready:\n",
    "    name = x.replace(homec+'/'+sub, '').replace('/', '_')\n",
    "    if path.exists(newdir + '/BABIES_Crossectional/' + sub + '/'+name):\n",
    "        print('File already copied')\n",
    "    else:\n",
    "        copyfile(x, newdir + '/BABIES_Crossectional/' + sub + '/'+name)"
   ]
  },
  {
   "cell_type": "code",
   "execution_count": 63,
   "metadata": {},
   "outputs": [],
   "source": [
    "def rename_data():\n",
    "    newhome = newdir + '/BABIES_Crossectional/' + sub\n",
    "    if path.exists(newhome + '/_anat_t1w_t1w_nii.gz'):\n",
    "        rename(newhome + '/_anat_t1w_t1w_nii.gz', newhome + '/t1w_0_8mm_ax_nii.gz')\n",
    "    else:\n",
    "        print('T1w not found in new dir for {}'.format(sub))\n",
    "    if path.exists(newhome + '/_anat_t2w_t2w_nii.gz'):\n",
    "        rename(newhome + '/_anat_t2w_t2w_nii.gz', newhome + '/t2w_0_8mm_sag_nii.gz')\n",
    "    else:\n",
    "        print('T2w not found in new dir for {}'.format(sub))\n",
    "    if path.exists(newhome + '/_anat_qt1_recon_qt1_pe1_nii.gz'):\n",
    "        rename(newhome + '/_anat_qt1_recon_qt1_pe1_nii.gz', newhome + '/qt1_pe1_nii.gz')\n",
    "    else:\n",
    "        print('qT1 pe1 not found in new dir for {}'.format(sub))\n",
    "    if path.exists(newhome + '/_anat_qt1_recon_qt1_pe0_nii.gz'):\n",
    "        rename(newhome + '/_anat_qt1_recon_qt1_pe0_nii.gz', newhome + '/_qt1_pe0_nii.gz')\n",
    "    else:\n",
    "        print('qT1 pe0 not found in new dir for {}'.format(sub))\n",
    "        \n",
    "    #Rename bvecs  \n",
    "    if path.exists(newhome + '/_anat_dwi_recon_dti_pe1.bvec'):\n",
    "        rename(newhome + '/_anat_dwi_recon_dti_pe1.bvec', newhome + '/_dti_pe1.bvec')\n",
    "    else:\n",
    "        print('DTI pe1 bvec not found in new dir for {}'.format(sub))\n",
    "    if path.exists(newhome + '_anat/_dwi_recon_dti_pe0_ms103.bvec'):\n",
    "        rename(newhome + '/_anat_dwi_recon_dti_pe0_ms103.bvec', newhome + '/_dti_pe0_ms103.bvec')\n",
    "    else:\n",
    "        print('DTI pe0 bvec not found in new dir for {}'.format(sub))\n",
    "    \n",
    "    #Rename bvals\n",
    "    if path.exists(newhome + '/_anat_dwi_recon_dti_pe1.bval'):\n",
    "        rename(newhome + '/_anat_dwi_recon_dti_pe1.bval', newhome + '/dti_pe1.bval')\n",
    "    else:\n",
    "        print('DTI pe1 bval not found in new dir for {}'.format(sub))\n",
    "    if path.exists(newhome + '/_anat_dwi_recon_dti_pe0_ms103.bval'):\n",
    "        rename(newhome + '/_anat_dwi_recon_dti_pe0_ms103.bval', newhome + '/dti_pe0_ms103.bval')\n",
    "    else:\n",
    "        print('DTI pe0 bval not found in new dir for {}'.format(sub))\n",
    "        \n",
    "    #Rename Niftis\n",
    "    if path.exists(newhome + '/_anat_dwi_recon_dti_pe1_nii.gz'):\n",
    "        rename(newhome + '/_anat_dwi_recon_dti_pe1_nii.gz', newhome + '/dti_pe1_nii.gz')\n",
    "    else:\n",
    "        print('DTI pe1 nifti not found in new dir for {}'.format(sub))\n",
    "    if path.exists(newhome + '/_anat_dwi_recon_dti_pe0_ms103_nii.gz'):\n",
    "        rename(newhome + '/_anat_dwi_recon_dti_pe0_ms103_nii.gz', newhome + '/dti_pe0_ms103_nii.gz')\n",
    "    else:\n",
    "        print('DTI pe0 nifti not found in new dir for {}'.format(sub))\n",
    "    \n",
    "    #Rename func data\n",
    "    if path.exists(newhome + '/_functional_rest_rest_den_nii.gz'):\n",
    "        rename(newhome + '/_functional_rest_rest_den_nii.gz', newhome + '/rest_den_nii.gz')\n",
    "    else:\n",
    "        print('Denoised rest nifti not found in new dir for {}'.format(sub))\n",
    "    if path.exists(newhome + '/_functional_rest_rest_nii.gz'):\n",
    "        rename(newhome + '/_functional_rest_rest_nii.gz', newhome + '/rest_nii.gz')\n",
    "    else:\n",
    "        print('Rest nifti not found in new dir for {}'.format(sub))\n",
    "    if path.exists(newhome + '/_functional_asl_asl_nii.gz'):\n",
    "        rename(newhome + '/_functional_asl_asl_nii.gz', newhome + '/asl_nii.gz')\n",
    "    else:\n",
    "        print('ASL nifti not found in new dir for {}'.format(sub))"
   ]
  },
  {
   "cell_type": "code",
   "execution_count": 64,
   "metadata": {},
   "outputs": [
    {
     "name": "stdout",
     "output_type": "stream",
     "text": [
      "T1w not found in new dir for 110-C-T1\n",
      "T2w not found in new dir for 110-C-T1\n",
      "qT1 pe1 not found in new dir for 110-C-T1\n",
      "qT1 pe0 not found in new dir for 110-C-T1\n",
      "DTI pe0 bvec not found in new dir for 110-C-T1\n",
      "DTI pe1 nifti not found in new dir for 110-C-T1\n",
      "DTI pe0 nifti not found in new dir for 110-C-T1\n",
      "Denoised rest nifti not found in new dir for 110-C-T1\n",
      "Rest nifti not found in new dir for 110-C-T1\n",
      "ASL nifti not found in new dir for 110-C-T1\n"
     ]
    }
   ],
   "source": [
    "for sub in subs:\n",
    "    rename_data()"
   ]
  },
  {
   "cell_type": "code",
   "execution_count": 14,
   "metadata": {},
   "outputs": [
    {
     "data": {
      "text/plain": [
       "['/Volumes/iang/active/BABIES/BABIES_Crossectional/BABIES_Crossectional-T1/110-C-T1/anat/t1w/t1w.nii.gz',\n",
       " '/Volumes/iang/active/BABIES/BABIES_Crossectional/BABIES_Crossectional-T1/110-C-T1/anat/t2w/t2w.nii.gz',\n",
       " '/Volumes/iang/active/BABIES/BABIES_Crossectional/BABIES_Crossectional-T1/110-C-T1/anat/qt1/recon/qt1_pe1.nii.gz',\n",
       " '/Volumes/iang/active/BABIES/BABIES_Crossectional/BABIES_Crossectional-T1/110-C-T1/anat/qt1/recon/qt1_pe0.nii.gz',\n",
       " '/Volumes/iang/active/BABIES/BABIES_Crossectional/BABIES_Crossectional-T1/110-C-T1/anat/dwi/recon/dti_pe1.bvec',\n",
       " '/Volumes/iang/active/BABIES/BABIES_Crossectional/BABIES_Crossectional-T1/110-C-T1/anat/dwi/recon/dti_pe1.bval',\n",
       " '/Volumes/iang/active/BABIES/BABIES_Crossectional/BABIES_Crossectional-T1/110-C-T1/anat/dwi/recon/dti_pe0_ms103.bvec',\n",
       " '/Volumes/iang/active/BABIES/BABIES_Crossectional/BABIES_Crossectional-T1/110-C-T1/anat/dwi/recon/dti_pe0_ms103.bval',\n",
       " '/Volumes/iang/active/BABIES/BABIES_Crossectional/BABIES_Crossectional-T1/110-C-T1/functional/rest/recon/rest.den.nii.gz',\n",
       " '/Volumes/iang/active/BABIES/BABIES_Crossectional/BABIES_Crossectional-T1/110-C-T1/functional/rest/recon/rest.nii.gz',\n",
       " '/Volumes/iang/active/BABIES/BABIES_Crossectional/BABIES_Crossectional-T1/110-C-T1/functional/asl/asl.nii.gz']"
      ]
     },
     "execution_count": 14,
     "metadata": {},
     "output_type": "execute_result"
    }
   ],
   "source": [
    "copy_ready"
   ]
  },
  {
   "cell_type": "code",
   "execution_count": null,
   "metadata": {},
   "outputs": [],
   "source": []
  }
 ],
 "metadata": {
  "kernelspec": {
   "display_name": "Python 3",
   "language": "python",
   "name": "python3"
  },
  "language_info": {
   "codemirror_mode": {
    "name": "ipython",
    "version": 3
   },
   "file_extension": ".py",
   "mimetype": "text/x-python",
   "name": "python",
   "nbconvert_exporter": "python",
   "pygments_lexer": "ipython3",
   "version": "3.6.4"
  }
 },
 "nbformat": 4,
 "nbformat_minor": 2
}
