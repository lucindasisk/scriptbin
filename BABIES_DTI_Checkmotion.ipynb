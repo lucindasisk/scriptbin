{
 "cells": [
  {
   "cell_type": "code",
   "execution_count": 1,
   "metadata": {},
   "outputs": [
    {
     "name": "stderr",
     "output_type": "stream",
     "text": [
      "/usr/local/anaconda3/lib/python3.6/importlib/_bootstrap.py:219: RuntimeWarning: numpy.dtype size changed, may indicate binary incompatibility. Expected 96, got 88\n",
      "  return f(*args, **kwds)\n"
     ]
    }
   ],
   "source": [
    "import pandas as pd\n",
    "import os\n",
    "import glob\n",
    "from matplotlib import pyplot as plt"
   ]
  },
  {
   "cell_type": "code",
   "execution_count": 28,
   "metadata": {},
   "outputs": [],
   "source": [
    "home = '/Volumes/group/active/BABIES/BABIES_diffusion/subjsDir'\n",
    "newborn = home + '/Newborn'\n",
    "sixmonth = home + '/6-month'\n",
    "out = '/Volumes/group/active/BABIES/BABIES_diffusion/check_motion/QC_plots_1.2019'\n",
    "timepoint = newborn"
   ]
  },
  {
   "cell_type": "code",
   "execution_count": 29,
   "metadata": {},
   "outputs": [
    {
     "name": "stdout",
     "output_type": "stream",
     "text": [
      "All subs extracted for timepoint\n"
     ]
    }
   ],
   "source": [
    "sublist = [] #Abbreviated subject name: e.g. 125\n",
    "ids = [] #Full subject name: e.g. 125-C-T1\n",
    "def get_subs(timepoint):\n",
    "    subpaths = glob.glob(timepoint + '/*-*-*')\n",
    "    for sub in subpaths:\n",
    "        sub1 = sub.replace(timepoint+'/', '')\n",
    "        ids.append(sub1)\n",
    "        sub2 = sub1.replace('-C-T1', '').replace('-L-T2', '').replace('-L-T3', '')\n",
    "        sublist.append(sub2)\n",
    "    return print('All subs extracted for timepoint')\n",
    "get_subs(timepoint)  "
   ]
  },
  {
   "cell_type": "code",
   "execution_count": null,
   "metadata": {},
   "outputs": [],
   "source": [
    "for sub in ids:\n",
    "    try:\n",
    "        eddymov = pd.read_csv(timepoint + '/{}/DTI_unwarped_eddy.eddy_movement_rms'.format(sub), delimiter = '  ', header=None)\n",
    "        edmo = eddymov.rename(columns={0:'RMS Movement Relative to Volume 1 (Absolute)', 1: 'RMS Movement Relative to Previous Volume (Relative)'})\n",
    "        x = lambda x: True if x % 2 >= 0 else False \n",
    "        edmo['Absolute Outlier'] = \n",
    "        plt.figure()\n",
    "        edmo.plot()\n",
    "        axes = plt.gca()\n",
    "        axes.set_ylim([0,5])\n",
    "        plt.title('{} RMS Movement (from FSL Eddy)'.format(sub), fontsize=16)\n",
    "        plt.savefig(out+'/{}_RMS_Movement_Plot.png'.format(sub))\n",
    "        plt.clf()\n",
    "    except:\n",
    "        print('Data not found for {}'.format(sub))"
   ]
  },
  {
   "cell_type": "code",
   "execution_count": 30,
   "metadata": {},
   "outputs": [],
   "source": [
    "def get_true(value):\n",
    "    if value > 1.999:\n",
    "        return 1\n",
    "    elif value < 1.999:\n",
    "        return 0\n",
    "    else:\n",
    "        return 1"
   ]
  },
  {
   "cell_type": "code",
   "execution_count": 31,
   "metadata": {},
   "outputs": [
    {
     "name": "stderr",
     "output_type": "stream",
     "text": [
      "/usr/local/anaconda3/lib/python3.6/site-packages/ipykernel_launcher.py:5: ParserWarning: Falling back to the 'python' engine because the 'c' engine does not support regex separators (separators > 1 char and different from '\\s+' are interpreted as regex); you can avoid this warning by specifying engine='python'.\n",
      "  \"\"\"\n"
     ]
    },
    {
     "name": "stdout",
     "output_type": "stream",
     "text": [
      "Data not found for 1042-L-T2\n",
      "Data not found for 1011-L-T2\n",
      "Data not found for File_QC_Report_2018-08-21.csv\n"
     ]
    }
   ],
   "source": [
    "datadf = pd.DataFrame(columns = ['SubID', 'Volumes with Absolute Outliers', 'Volumes with Relative Outliers'])\n",
    "for sub in ids:\n",
    "    try:\n",
    "        eddymov = pd.read_csv(timepoint + '/{}/DTI_unwarped_eddy.eddy_movement_rms'.format(sub), delimiter = '  ', header=None)\n",
    "        edmo = eddymov.rename(columns={0:'RMS Movement Relative to Volume 1 (Absolute)', 1: 'RMS Movement Relative to Previous Volume (Relative)'})\n",
    "        edmo['Absolute Outlier'] = edmo['RMS Movement Relative to Volume 1 (Absolute)'].apply(get_true)\n",
    "        edmo['Relative Outlier'] = edmo['RMS Movement Relative to Previous Volume (Relative)'].apply(get_true)\n",
    "        edmo.index.rename('Volumes', inplace = True)\n",
    "        abs_outliers = edmo.index[edmo['Absolute Outlier'] == 1].tolist()\n",
    "        rel_outliers = edmo.index[edmo['Relative Outlier'] == 1].tolist()\n",
    "        datadf = datadf.append({'SubID': sub, 'Volumes with Absolute Outliers': abs_outliers, 'Volumes with Relative Outliers':rel_outliers}, ignore_index=True)\n",
    "    except:\n",
    "        print('Data not found for {}'.format(sub))\n"
   ]
  },
  {
   "cell_type": "code",
   "execution_count": 33,
   "metadata": {},
   "outputs": [],
   "source": [
    "if timepoint == sixmonth:\n",
    "    datadf.to_csv(out+'/06month_RMS_Movement_AllSubs.csv')\n",
    "elif timepoint == newborn:\n",
    "    datadf.to_csv(out+'/0Newborn_RMS_Movement_AllSubs.csv')"
   ]
  },
  {
   "cell_type": "code",
   "execution_count": null,
   "metadata": {},
   "outputs": [],
   "source": []
  }
 ],
 "metadata": {
  "kernelspec": {
   "display_name": "Python 3",
   "language": "python",
   "name": "python3"
  },
  "language_info": {
   "codemirror_mode": {
    "name": "ipython",
    "version": 3
   },
   "file_extension": ".py",
   "mimetype": "text/x-python",
   "name": "python",
   "nbconvert_exporter": "python",
   "pygments_lexer": "ipython3",
   "version": "3.6.4"
  }
 },
 "nbformat": 4,
 "nbformat_minor": 2
}
