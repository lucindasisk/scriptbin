{
 "cells": [
  {
   "cell_type": "code",
   "execution_count": 1,
   "metadata": {},
   "outputs": [],
   "source": [
    "import pandas as pd\n",
    "import csv\n",
    "from datetime import date\n",
    "from os import makedirs, getcwd\n",
    "from os.path import dirname, join\n",
    "from glob import glob\n",
    "today=str(date.today())"
   ]
  },
  {
   "cell_type": "code",
   "execution_count": 2,
   "metadata": {},
   "outputs": [],
   "source": [
    "##### EDIT THESE VARIABLES\n",
    "\n",
    "tp='TK3' # This is the timepoint for which you are running the script\n",
    "tract='Uncinate' # This is the tract you are creating a curated sheet for\n",
    "date_updated='2019-05-04' # This is the date on the 'Updated' csvs\n",
    "\n",
    "##### DO NOT EDIT VARIABLES PAST THIS POINT "
   ]
  },
  {
   "cell_type": "code",
   "execution_count": 3,
   "metadata": {},
   "outputs": [
    {
     "ename": "NameError",
     "evalue": "name 'getcwd' is not defined",
     "output_type": "error",
     "traceback": [
      "\u001b[0;31m---------------------------------------------------------------------------\u001b[0m",
      "\u001b[0;31mNameError\u001b[0m                                 Traceback (most recent call last)",
      "\u001b[0;32m<ipython-input-3-ca010ff73cf0>\u001b[0m in \u001b[0;36m<module>\u001b[0;34m()\u001b[0m\n\u001b[1;32m      1\u001b[0m \u001b[0;31m#set paths\u001b[0m\u001b[0;34m\u001b[0m\u001b[0;34m\u001b[0m\u001b[0m\n\u001b[0;32m----> 2\u001b[0;31m \u001b[0mpath\u001b[0m\u001b[0;34m=\u001b[0m\u001b[0mgetcwd\u001b[0m\u001b[0;34m(\u001b[0m\u001b[0;34m)\u001b[0m\u001b[0;34m\u001b[0m\u001b[0m\n\u001b[0m\u001b[1;32m      3\u001b[0m \u001b[0mpdir\u001b[0m\u001b[0;34m=\u001b[0m\u001b[0mdirname\u001b[0m\u001b[0;34m(\u001b[0m\u001b[0mpath\u001b[0m\u001b[0;34m)\u001b[0m\u001b[0;34m\u001b[0m\u001b[0m\n\u001b[1;32m      4\u001b[0m \u001b[0mhome\u001b[0m\u001b[0;34m=\u001b[0m\u001b[0mjoin\u001b[0m\u001b[0;34m(\u001b[0m\u001b[0mpdir\u001b[0m\u001b[0;34m,\u001b[0m\u001b[0;34m'ELS_{}/matproc/AFQ_results'\u001b[0m\u001b[0;34m.\u001b[0m\u001b[0mformat\u001b[0m\u001b[0;34m(\u001b[0m\u001b[0mtp\u001b[0m\u001b[0;34m)\u001b[0m\u001b[0;34m)\u001b[0m\u001b[0;34m\u001b[0m\u001b[0m\n\u001b[1;32m      5\u001b[0m \u001b[0;34m\u001b[0m\u001b[0m\n",
      "\u001b[0;31mNameError\u001b[0m: name 'getcwd' is not defined"
     ]
    }
   ],
   "source": [
    "#set paths\n",
    "path=getcwd()\n",
    "pdir=dirname(path)\n",
    "home=join(pdir,'ELS_{}/matproc/AFQ_results'.format(tp))\n",
    "\n",
    "#home='/Volumes/iang/ELS_data/ELS_DTI_Analysis/ELS_{}/matproc/AFQ_results'.format(tp)\n",
    "dest=join(pdir,'Results')\n",
    "dest"
   ]
  },
  {
   "cell_type": "code",
   "execution_count": 184,
   "metadata": {},
   "outputs": [],
   "source": [
    "hem='Left'\n",
    "metric='FA'\n",
    "flist= glob(home + '/{}/ELS_{}_Updated_Cleaned_{}_{}_{}_*.csv'.format(tract, tp, hem,tract,metric))\n",
    "for x in flist:\n",
    "    tractdf = pd.read_csv(x, header=0)\n",
    "maindf = tractdf[['subject ID', 'Date.of.Scan.{}'.format(tp), 'Age.at.Scan.{}'.format(tp)]]\n",
    "maindf.to_csv(dest+'/{}/ELS_{}_Curated_DTI_{}.csv'.format(tp, tp, today))\n",
    "maindf.set_index('subject ID', inplace=True)"
   ]
  },
  {
   "cell_type": "code",
   "execution_count": 185,
   "metadata": {},
   "outputs": [],
   "source": [
    "hem='Left'\n",
    "metric='FA'\n",
    "df = pd.read_csv(home + '/{}/ELS_{}_Updated_Cleaned_{}_{}_{}_{}.csv'.format(tract, tp, hem,tract,metric, date_updated), header=0)\n",
    "meanfa = df[['subject ID', '{}.{}.{}.{}.mean'.format(hem,tract,metric,tp)]]\n",
    "meanfa.set_index('subject ID', inplace=True)\n",
    "\n",
    "metric='AD'\n",
    "df = pd.read_csv(home + '/{}/ELS_{}_Updated_Cleaned_{}_{}_{}_{}.csv'.format(tract, tp, hem,tract,metric, date_updated), header=0)\n",
    "meanad = df[['subject ID', '{}.{}.{}.{}.mean'.format(hem,tract,metric,tp)]]\n",
    "meanad.set_index('subject ID', inplace=True)\n",
    "\n",
    "metric='MD'\n",
    "df = pd.read_csv(home + '/{}/ELS_{}_Updated_Cleaned_{}_{}_{}_{}.csv'.format(tract, tp, hem,tract,metric, date_updated), header=0)\n",
    "meanmd = df[['subject ID', '{}.{}.{}.{}.mean'.format(hem,tract,metric,tp)]]\n",
    "meanmd.set_index('subject ID', inplace=True)\n",
    "\n",
    "metric='RD'\n",
    "df = pd.read_csv(home + '/{}/ELS_{}_Updated_Cleaned_{}_{}_{}_{}.csv'.format(tract, tp, hem,tract,metric, date_updated), header=0)\n",
    "meanrd = df[['subject ID', '{}.{}.{}.{}.mean'.format(hem,tract,metric,tp)]]\n",
    "meanrd.set_index('subject ID', inplace=True)\n",
    "left_tract=pd.concat([maindf, meanfa,meanad,meanmd, meanrd], axis=1, join='outer')"
   ]
  },
  {
   "cell_type": "code",
   "execution_count": 186,
   "metadata": {},
   "outputs": [],
   "source": [
    "hem='Right'\n",
    "metric='FA'\n",
    "df = pd.read_csv(home + '/{}/ELS_{}_Updated_Cleaned_{}_{}_{}_{}.csv'.format(tract, tp, hem,tract,metric, date_updated), header=0)\n",
    "meanfa = df[['subject ID', '{}.{}.{}.{}.mean'.format(hem,tract,metric,tp)]]\n",
    "meanfa.set_index('subject ID', inplace=True)\n",
    "\n",
    "metric='AD'\n",
    "df = pd.read_csv(home + '/{}/ELS_{}_Updated_Cleaned_{}_{}_{}_{}.csv'.format(tract, tp, hem,tract,metric, date_updated), header=0)\n",
    "meanad = df[['subject ID', '{}.{}.{}.{}.mean'.format(hem,tract,metric,tp)]]\n",
    "meanad.set_index('subject ID', inplace=True)\n",
    "\n",
    "metric='MD'\n",
    "df = pd.read_csv(home + '/{}/ELS_{}_Updated_Cleaned_{}_{}_{}_{}.csv'.format(tract, tp, hem,tract,metric, date_updated), header=0)\n",
    "meanmd = df[['subject ID', '{}.{}.{}.{}.mean'.format(hem,tract,metric,tp)]]\n",
    "meanmd.set_index('subject ID', inplace=True)\n",
    "\n",
    "metric='RD'\n",
    "df = pd.read_csv(home + '/{}/ELS_{}_Updated_Cleaned_{}_{}_{}_{}.csv'.format(tract, tp, hem,tract,metric, date_updated), header=0)\n",
    "meanrd = df[['subject ID', '{}.{}.{}.{}.mean'.format(hem,tract,metric,tp)]]\n",
    "meanrd.set_index('subject ID', inplace=True)\n",
    "right_tract=pd.concat([meanfa,meanad,meanmd, meanrd], axis=1, join='outer')"
   ]
  },
  {
   "cell_type": "code",
   "execution_count": 187,
   "metadata": {},
   "outputs": [],
   "source": [
    "both_tracts = pd.concat([left_tract, right_tract], axis=1, join='outer')\n",
    "both_tracts.to_csv(dest+'/{}/ELS_{}_{}_Curated_{}.csv'.format(tp, tp, tract, today))"
   ]
  },
  {
   "cell_type": "code",
   "execution_count": null,
   "metadata": {},
   "outputs": [],
   "source": []
  }
 ],
 "metadata": {
  "kernelspec": {
   "display_name": "Python 3",
   "language": "python",
   "name": "python3"
  },
  "language_info": {
   "codemirror_mode": {
    "name": "ipython",
    "version": 3
   },
   "file_extension": ".py",
   "mimetype": "text/x-python",
   "name": "python",
   "nbconvert_exporter": "python",
   "pygments_lexer": "ipython3",
   "version": "3.6.4"
  },
  "toc": {
   "base_numbering": 1,
   "nav_menu": {},
   "number_sections": true,
   "sideBar": true,
   "skip_h1_title": false,
   "title_cell": "Table of Contents",
   "title_sidebar": "Contents",
   "toc_cell": false,
   "toc_position": {},
   "toc_section_display": true,
   "toc_window_display": false
  }
 },
 "nbformat": 4,
 "nbformat_minor": 2
}
