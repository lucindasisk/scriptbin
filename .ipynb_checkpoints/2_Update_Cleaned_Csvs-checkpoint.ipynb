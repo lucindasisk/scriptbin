{
 "cells": [
  {
   "cell_type": "code",
   "execution_count": 41,
   "metadata": {},
   "outputs": [],
   "source": [
    "import pandas as pd\n",
    "from datetime import date\n",
    "from os import makedirs, getcwd\n",
    "from os.path import dirname, join\n",
    "today=str(date.today())"
   ]
  },
  {
   "cell_type": "code",
   "execution_count": null,
   "metadata": {},
   "outputs": [],
   "source": [
    "##### EDIT THESE VARIABLES\n",
    "\n",
    "tp='TK3' # This is the timepoint for which you are running the script\n",
    "newstem = '202-tmid' # This is the stem you used previously in cleaning the CSVs -- I.E. 'Tmid_AllSubs'\n",
    "\n",
    "##### DO NOT EDIT VARIABLES PAST THIS POINT "
   ]
  },
  {
   "cell_type": "code",
   "execution_count": 42,
   "metadata": {},
   "outputs": [],
   "source": [
    "##VARIABLES\n",
    "path=getcwd()\n",
    "pdir=dirname(path)\n",
    "home=join(pdir,'ELS_{}/matproc/AFQ_results'.format(tp))\n",
    "\n",
    "#home='/Volumes/iang/ELS_data/ELS_DTI_Analysis/ELS_{}/matproc/AFQ_results'.format(tp)\n",
    "\n",
    "tracts = ['Arcuate','Cingulum_Cingulate','Cingulum_Hippocampus', 'Corticospinal', 'IFOF',\n",
    "         'IFOF', 'ILF', 'SLF', 'Thalmic_Radiation', 'Uncinate']\n",
    "hemisphere = ['Left', 'Right']\n",
    "metrics = ['AD', 'FA', 'MD', 'RD']"
   ]
  },
  {
   "cell_type": "code",
   "execution_count": 43,
   "metadata": {},
   "outputs": [],
   "source": [
    "for tract in tracts:\n",
    "    for metric in metrics:\n",
    "       for hemi in hemisphere:\n",
    "        print('Creating new CSV file for ELS_{}_{}_{}_{}'.format(tp,hemi,tract,metric))\n",
    "        original = pd.read_csv(home + '/{}/CLEAN_5.1.19/ELS_{}_Cleaned_{}_{}_{}_2019-05-01.csv'.format(tract,tp,hemi,tract,metric), header=0) \n",
    "        new= pd.read_csv(home + '/{}/{}_{}_{}_{}_{}.csv'.format(tract,newstem,hemi,tract,metric,today),header=0, dtype=str)\n",
    "        final=pd.concat([original, new], axis=0, join='outer')\n",
    "        final.to_csv(home + '/{}/ELS_{}_Updated_Cleaned_{}_{}_{}_{}.csv'.format(tract,tp,hemi,tract,metric,today),index=False)\n",
    "        print('Data saved to ELS_{}_Updated_Cleaned_{}_{}_{}_{}.csv'.format(tract,tp,hemi,tract,metric,today))"
   ]
  },
  {
   "cell_type": "code",
   "execution_count": 44,
   "metadata": {},
   "outputs": [],
   "source": [
    "tract2 = ['Callosum_Forceps_Minor', 'Callosum_Forceps_Major']\n",
    "for tract in tract2:\n",
    "    for metric in metrics:\n",
    "        print('Creating new CSV file for ELS_{}_{}_{}'.format(tp,tract,metric))\n",
    "        original = pd.read_csv(home + '/{}/CLEAN_5.1.19/ELS_{}_Cleaned_{}_{}_2019-05-01.csv'.format(tract, tp,tract,metric), header=0,dtype=str)\n",
    "        new= pd.read_csv(home + '/{}/{}_{}_{}_{}.csv'.format(tract,newstem,tract,metric,today),header=0, dtype=str)\n",
    "        final=pd.concat([original, new], axis=0, join='outer').sort_values(by='subject ID')\n",
    "        final.to_csv(home + '/{}/ELS_{}_Updated_Cleaned_{}_{}_{}.csv'.format(tract,tp,tract,metric,today),index=False)\n",
    "        print('Data saved to ELS_{}_Updated_Cleaned_{}_{}_{}.csv'.format(tract,tp,tract,metric,today))\n",
    "              "
   ]
  },
  {
   "cell_type": "code",
   "execution_count": null,
   "metadata": {},
   "outputs": [],
   "source": []
  },
  {
   "cell_type": "code",
   "execution_count": null,
   "metadata": {},
   "outputs": [],
   "source": []
  }
 ],
 "metadata": {
  "kernelspec": {
   "display_name": "Python 3",
   "language": "python",
   "name": "python3"
  },
  "language_info": {
   "codemirror_mode": {
    "name": "ipython",
    "version": 3
   },
   "file_extension": ".py",
   "mimetype": "text/x-python",
   "name": "python",
   "nbconvert_exporter": "python",
   "pygments_lexer": "ipython3",
   "version": "3.6.4"
  },
  "toc": {
   "base_numbering": 1,
   "nav_menu": {},
   "number_sections": true,
   "sideBar": true,
   "skip_h1_title": false,
   "title_cell": "Table of Contents",
   "title_sidebar": "Contents",
   "toc_cell": false,
   "toc_position": {},
   "toc_section_display": true,
   "toc_window_display": false
  }
 },
 "nbformat": 4,
 "nbformat_minor": 2
}
