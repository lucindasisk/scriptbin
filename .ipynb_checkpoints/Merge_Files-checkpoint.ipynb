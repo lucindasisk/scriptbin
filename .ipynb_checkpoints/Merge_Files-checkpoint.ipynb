{
 "cells": [
  {
   "cell_type": "code",
   "execution_count": null,
   "metadata": {},
   "outputs": [],
   "source": [
    "import pandas as pd\n",
    "import os\n",
    "pd.set_option('display.max_columns', 500)"
   ]
  },
  {
   "cell_type": "code",
   "execution_count": null,
   "metadata": {},
   "outputs": [],
   "source": [
    "home = '/Users/lucindasisk/Dropbox/Projects/Tiffany_DTI_DataRequest'"
   ]
  },
  {
   "cell_type": "code",
   "execution_count": null,
   "metadata": {},
   "outputs": [],
   "source": [
    "file1 = pd.read_csv(home + '/ELS_DTI_TMid_movementQC.csv', header=0)\n",
    "file2 = pd.read_csv(home + '/ELS_DTI_T2_movementQC.csv', header=0)\n",
    "file3 = pd.read_csv(home + '/T1_ELS_movementQC.csv', header=0)"
   ]
  },
  {
   "cell_type": "code",
   "execution_count": null,
   "metadata": {},
   "outputs": [],
   "source": [
    "merge_id = 'SUBID'\n",
    "m1 = pd.merge(file1, file2, on=merge_id, how = 'outer')\n",
    "m2 = pd.merge(file3, m1, on=merge_id, how = 'outer')\n",
    "m2.to_csv(home+'/Timepoint_merged_DTI_QC.csv')"
   ]
  },
  {
   "cell_type": "markdown",
   "metadata": {},
   "source": []
  },
  {
   "cell_type": "code",
   "execution_count": null,
   "metadata": {},
   "outputs": [],
   "source": []
  }
 ],
 "metadata": {
  "kernelspec": {
   "display_name": "Python 3",
   "language": "python",
   "name": "python3"
  },
  "language_info": {
   "codemirror_mode": {
    "name": "ipython",
    "version": 3
   },
   "file_extension": ".py",
   "mimetype": "text/x-python",
   "name": "python",
   "nbconvert_exporter": "python",
   "pygments_lexer": "ipython3",
   "version": "3.6.4"
  }
 },
 "nbformat": 4,
 "nbformat_minor": 2
}
