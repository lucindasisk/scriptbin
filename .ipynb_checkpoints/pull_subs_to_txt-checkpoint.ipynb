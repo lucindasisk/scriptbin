{
 "cells": [
  {
   "cell_type": "code",
   "execution_count": null,
   "metadata": {},
   "outputs": [],
   "source": [
    "#This script searches generates a list of subjects without existing freesurfer directories in TIffany's folders."
   ]
  },
  {
   "cell_type": "code",
   "execution_count": 10,
   "metadata": {},
   "outputs": [],
   "source": [
    "from nipype.workflows.smri.freesurfer import create_reconall_workflow\n",
    "import pandas as pd\n",
    "import os\n",
    "import glob\n",
    "from shutil import copyfile\n"
   ]
  },
  {
   "cell_type": "code",
   "execution_count": 20,
   "metadata": {},
   "outputs": [],
   "source": [
    "erawfp = '/Volumes/iang/active/ELS/ELS-T1'\n",
    "config = '/Volumes/iang/users/hoTC/TiffanyELST1/config'\n",
    "fsdir= '/Volumes/iang/users/hoTC/TiffanyELST1/fs_subjdir'\n",
    "matproc = '/Volumes/iang/users/hoTC/TiffanyELST1/matproc'"
   ]
  },
  {
   "cell_type": "code",
   "execution_count": 36,
   "metadata": {},
   "outputs": [],
   "source": [
    "#pull list of subjects to use\n",
    "def getsubs():\n",
    "    sub = pd.Series(glob.glob(matproc+'/'+'*-T1'))\n",
    "    subs = sub.apply(lambda x: os.path.splitext(os.path.basename(x))[0]).tolist()\n",
    "    return subs\n",
    "subs = getsubs()\n",
    "for sub in subs:\n",
    "    with open(matproc + '/sub_list.txt', 'a') as output:\n",
    "        output.write(str(sub+'\\n'))"
   ]
  },
  {
   "cell_type": "code",
   "execution_count": null,
   "metadata": {},
   "outputs": [],
   "source": []
  }
 ],
 "metadata": {
  "kernelspec": {
   "display_name": "Python 3",
   "language": "python",
   "name": "python3"
  },
  "language_info": {
   "codemirror_mode": {
    "name": "ipython",
    "version": 3
   },
   "file_extension": ".py",
   "mimetype": "text/x-python",
   "name": "python",
   "nbconvert_exporter": "python",
   "pygments_lexer": "ipython3",
   "version": "3.6.4"
  }
 },
 "nbformat": 4,
 "nbformat_minor": 2
}
