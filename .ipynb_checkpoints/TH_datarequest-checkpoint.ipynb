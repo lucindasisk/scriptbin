{
 "cells": [
  {
   "cell_type": "code",
   "execution_count": 31,
   "metadata": {},
   "outputs": [],
   "source": [
    "import pandas as pd\n",
    "from os.path import join\n",
    "\n",
    "tp='T2'#input('Please enter timepoint:    ')\n",
    "home='/Volumes/groups/ELS_data/ELS_DTI_Analysis/ELS_{}/matproc/AFQ_results'.format(tp)\n",
    "dest = '/Users/myelin/Desktop/TH_Data_Request'\n",
    "\n",
    "tracts = ['Arcuate','Cingulum_Cingulate','Cingulum_Hippocampus', 'Corticospinal', 'IFOF',\n",
    "         'IFOF', 'ILF', 'SLF', 'Thalmic_Radiation', 'Uncinate']\n",
    "hemisphere = ['Left', 'Right']\n",
    "tract='Callosum_Forceps_Minor'"
   ]
  },
  {
   "cell_type": "code",
   "execution_count": 34,
   "metadata": {},
   "outputs": [
    {
     "ename": "KeyError",
     "evalue": "\"['Callosum_Forceps_Minor.RD.T2.mean'] not in index\"",
     "output_type": "error",
     "traceback": [
      "\u001b[0;31m---------------------------------------------------------------------------\u001b[0m",
      "\u001b[0;31mKeyError\u001b[0m                                  Traceback (most recent call last)",
      "\u001b[0;32m<ipython-input-34-9ca44be72554>\u001b[0m in \u001b[0;36m<module>\u001b[0;34m()\u001b[0m\n\u001b[1;32m     19\u001b[0m \u001b[0mcsv4\u001b[0m \u001b[0;34m=\u001b[0m \u001b[0mpd\u001b[0m\u001b[0;34m.\u001b[0m\u001b[0mread_csv\u001b[0m\u001b[0;34m(\u001b[0m\u001b[0mjoin\u001b[0m\u001b[0;34m(\u001b[0m\u001b[0mhome\u001b[0m\u001b[0;34m,\u001b[0m \u001b[0;34m'AFQ_Cleaned_4.30.19/ELS_{}_Cleaned_{}_{}.csv'\u001b[0m\u001b[0;34m.\u001b[0m\u001b[0mformat\u001b[0m\u001b[0;34m(\u001b[0m\u001b[0mtp\u001b[0m\u001b[0;34m,\u001b[0m\u001b[0mtract\u001b[0m\u001b[0;34m,\u001b[0m\u001b[0mmetric\u001b[0m\u001b[0;34m)\u001b[0m\u001b[0;34m)\u001b[0m\u001b[0;34m)\u001b[0m\u001b[0;34m\u001b[0m\u001b[0m\n\u001b[1;32m     20\u001b[0m \u001b[0mcsv4\u001b[0m\u001b[0;34m[\u001b[0m\u001b[0;34m'{}.{}.{}.mean'\u001b[0m\u001b[0;34m.\u001b[0m\u001b[0mformat\u001b[0m\u001b[0;34m(\u001b[0m\u001b[0mtract\u001b[0m\u001b[0;34m,\u001b[0m\u001b[0mmetric\u001b[0m\u001b[0;34m,\u001b[0m\u001b[0mtp\u001b[0m\u001b[0;34m)\u001b[0m\u001b[0;34m]\u001b[0m \u001b[0;34m=\u001b[0m \u001b[0mcsv4\u001b[0m\u001b[0;34m.\u001b[0m\u001b[0miloc\u001b[0m\u001b[0;34m[\u001b[0m\u001b[0;34m:\u001b[0m\u001b[0;34m,\u001b[0m\u001b[0;36m3\u001b[0m\u001b[0;34m:\u001b[0m\u001b[0;36m103\u001b[0m\u001b[0;34m]\u001b[0m\u001b[0;34m.\u001b[0m\u001b[0mmean\u001b[0m\u001b[0;34m(\u001b[0m\u001b[0maxis\u001b[0m\u001b[0;34m=\u001b[0m\u001b[0;36m1\u001b[0m\u001b[0;34m)\u001b[0m\u001b[0;34m\u001b[0m\u001b[0m\n\u001b[0;32m---> 21\u001b[0;31m \u001b[0ml_rd\u001b[0m \u001b[0;34m=\u001b[0m \u001b[0mcsv\u001b[0m\u001b[0;34m[\u001b[0m\u001b[0;34m[\u001b[0m\u001b[0;34m'subject ID'\u001b[0m\u001b[0;34m,\u001b[0m \u001b[0;34m'{}.{}.{}.mean'\u001b[0m\u001b[0;34m.\u001b[0m\u001b[0mformat\u001b[0m\u001b[0;34m(\u001b[0m\u001b[0mtract\u001b[0m\u001b[0;34m,\u001b[0m\u001b[0mmetric\u001b[0m\u001b[0;34m,\u001b[0m\u001b[0mtp\u001b[0m\u001b[0;34m)\u001b[0m\u001b[0;34m]\u001b[0m\u001b[0;34m]\u001b[0m\u001b[0;34m\u001b[0m\u001b[0m\n\u001b[0m\u001b[1;32m     22\u001b[0m \u001b[0;34m\u001b[0m\u001b[0m\n\u001b[1;32m     23\u001b[0m \u001b[0mm1\u001b[0m \u001b[0;34m=\u001b[0m \u001b[0mpd\u001b[0m\u001b[0;34m.\u001b[0m\u001b[0mmerge\u001b[0m\u001b[0;34m(\u001b[0m\u001b[0ml_fa\u001b[0m\u001b[0;34m,\u001b[0m \u001b[0ml_ad\u001b[0m\u001b[0;34m,\u001b[0m \u001b[0mon\u001b[0m\u001b[0;34m=\u001b[0m\u001b[0;34m'subject ID'\u001b[0m\u001b[0;34m,\u001b[0m \u001b[0mhow\u001b[0m\u001b[0;34m=\u001b[0m\u001b[0;34m'outer'\u001b[0m\u001b[0;34m)\u001b[0m\u001b[0;34m\u001b[0m\u001b[0m\n",
      "\u001b[0;32m/usr/local/anaconda3/lib/python3.6/site-packages/pandas/core/frame.py\u001b[0m in \u001b[0;36m__getitem__\u001b[0;34m(self, key)\u001b[0m\n\u001b[1;32m   2131\u001b[0m         \u001b[0;32mif\u001b[0m \u001b[0misinstance\u001b[0m\u001b[0;34m(\u001b[0m\u001b[0mkey\u001b[0m\u001b[0;34m,\u001b[0m \u001b[0;34m(\u001b[0m\u001b[0mSeries\u001b[0m\u001b[0;34m,\u001b[0m \u001b[0mnp\u001b[0m\u001b[0;34m.\u001b[0m\u001b[0mndarray\u001b[0m\u001b[0;34m,\u001b[0m \u001b[0mIndex\u001b[0m\u001b[0;34m,\u001b[0m \u001b[0mlist\u001b[0m\u001b[0;34m)\u001b[0m\u001b[0;34m)\u001b[0m\u001b[0;34m:\u001b[0m\u001b[0;34m\u001b[0m\u001b[0m\n\u001b[1;32m   2132\u001b[0m             \u001b[0;31m# either boolean or fancy integer index\u001b[0m\u001b[0;34m\u001b[0m\u001b[0;34m\u001b[0m\u001b[0m\n\u001b[0;32m-> 2133\u001b[0;31m             \u001b[0;32mreturn\u001b[0m \u001b[0mself\u001b[0m\u001b[0;34m.\u001b[0m\u001b[0m_getitem_array\u001b[0m\u001b[0;34m(\u001b[0m\u001b[0mkey\u001b[0m\u001b[0;34m)\u001b[0m\u001b[0;34m\u001b[0m\u001b[0m\n\u001b[0m\u001b[1;32m   2134\u001b[0m         \u001b[0;32melif\u001b[0m \u001b[0misinstance\u001b[0m\u001b[0;34m(\u001b[0m\u001b[0mkey\u001b[0m\u001b[0;34m,\u001b[0m \u001b[0mDataFrame\u001b[0m\u001b[0;34m)\u001b[0m\u001b[0;34m:\u001b[0m\u001b[0;34m\u001b[0m\u001b[0m\n\u001b[1;32m   2135\u001b[0m             \u001b[0;32mreturn\u001b[0m \u001b[0mself\u001b[0m\u001b[0;34m.\u001b[0m\u001b[0m_getitem_frame\u001b[0m\u001b[0;34m(\u001b[0m\u001b[0mkey\u001b[0m\u001b[0;34m)\u001b[0m\u001b[0;34m\u001b[0m\u001b[0m\n",
      "\u001b[0;32m/usr/local/anaconda3/lib/python3.6/site-packages/pandas/core/frame.py\u001b[0m in \u001b[0;36m_getitem_array\u001b[0;34m(self, key)\u001b[0m\n\u001b[1;32m   2175\u001b[0m             \u001b[0;32mreturn\u001b[0m \u001b[0mself\u001b[0m\u001b[0;34m.\u001b[0m\u001b[0m_take\u001b[0m\u001b[0;34m(\u001b[0m\u001b[0mindexer\u001b[0m\u001b[0;34m,\u001b[0m \u001b[0maxis\u001b[0m\u001b[0;34m=\u001b[0m\u001b[0;36m0\u001b[0m\u001b[0;34m,\u001b[0m \u001b[0mconvert\u001b[0m\u001b[0;34m=\u001b[0m\u001b[0;32mFalse\u001b[0m\u001b[0;34m)\u001b[0m\u001b[0;34m\u001b[0m\u001b[0m\n\u001b[1;32m   2176\u001b[0m         \u001b[0;32melse\u001b[0m\u001b[0;34m:\u001b[0m\u001b[0;34m\u001b[0m\u001b[0m\n\u001b[0;32m-> 2177\u001b[0;31m             \u001b[0mindexer\u001b[0m \u001b[0;34m=\u001b[0m \u001b[0mself\u001b[0m\u001b[0;34m.\u001b[0m\u001b[0mloc\u001b[0m\u001b[0;34m.\u001b[0m\u001b[0m_convert_to_indexer\u001b[0m\u001b[0;34m(\u001b[0m\u001b[0mkey\u001b[0m\u001b[0;34m,\u001b[0m \u001b[0maxis\u001b[0m\u001b[0;34m=\u001b[0m\u001b[0;36m1\u001b[0m\u001b[0;34m)\u001b[0m\u001b[0;34m\u001b[0m\u001b[0m\n\u001b[0m\u001b[1;32m   2178\u001b[0m             \u001b[0;32mreturn\u001b[0m \u001b[0mself\u001b[0m\u001b[0;34m.\u001b[0m\u001b[0m_take\u001b[0m\u001b[0;34m(\u001b[0m\u001b[0mindexer\u001b[0m\u001b[0;34m,\u001b[0m \u001b[0maxis\u001b[0m\u001b[0;34m=\u001b[0m\u001b[0;36m1\u001b[0m\u001b[0;34m,\u001b[0m \u001b[0mconvert\u001b[0m\u001b[0;34m=\u001b[0m\u001b[0;32mTrue\u001b[0m\u001b[0;34m)\u001b[0m\u001b[0;34m\u001b[0m\u001b[0m\n\u001b[1;32m   2179\u001b[0m \u001b[0;34m\u001b[0m\u001b[0m\n",
      "\u001b[0;32m/usr/local/anaconda3/lib/python3.6/site-packages/pandas/core/indexing.py\u001b[0m in \u001b[0;36m_convert_to_indexer\u001b[0;34m(self, obj, axis, is_setter)\u001b[0m\n\u001b[1;32m   1267\u001b[0m                 \u001b[0;32mif\u001b[0m \u001b[0mmask\u001b[0m\u001b[0;34m.\u001b[0m\u001b[0many\u001b[0m\u001b[0;34m(\u001b[0m\u001b[0;34m)\u001b[0m\u001b[0;34m:\u001b[0m\u001b[0;34m\u001b[0m\u001b[0m\n\u001b[1;32m   1268\u001b[0m                     raise KeyError('{mask} not in index'\n\u001b[0;32m-> 1269\u001b[0;31m                                    .format(mask=objarr[mask]))\n\u001b[0m\u001b[1;32m   1270\u001b[0m \u001b[0;34m\u001b[0m\u001b[0m\n\u001b[1;32m   1271\u001b[0m                 \u001b[0;32mreturn\u001b[0m \u001b[0m_values_from_object\u001b[0m\u001b[0;34m(\u001b[0m\u001b[0mindexer\u001b[0m\u001b[0;34m)\u001b[0m\u001b[0;34m\u001b[0m\u001b[0m\n",
      "\u001b[0;31mKeyError\u001b[0m: \"['Callosum_Forceps_Minor.RD.T2.mean'] not in index\""
     ]
    }
   ],
   "source": [
    "#####Callosum Forceps\n",
    "\n",
    "metric='FA'\n",
    "csv1 = pd.read_csv(join(home, 'AFQ_Cleaned_4.30.19/ELS_{}_Cleaned_{}_{}.csv'.format(tp,tract,metric)))\n",
    "csv1['{}.{}.{}.mean'.format(tract,metric,tp)] = csv1.iloc[:,3:103].mean(axis=1)\n",
    "l_fa = csv1[['subject ID', '{}.{}.{}.mean'.format(tract,metric,tp)]]\n",
    "\n",
    "metric='AD'\n",
    "csv2 = pd.read_csv(join(home, 'AFQ_Cleaned_4.30.19/ELS_{}_Cleaned_{}_{}.csv'.format(tp,tract,metric)))\n",
    "csv2['{}.{}.{}.mean'.format(tract,metric,tp)] = csv2.iloc[:,3:103].mean(axis=1)\n",
    "l_ad = csv2[['subject ID', '{}.{}.{}.mean'.format(tract,metric,tp)]]\n",
    "\n",
    "metric='MD'\n",
    "csv3 = pd.read_csv(join(home, 'AFQ_Cleaned_4.30.19/ELS_{}_Cleaned_{}_{}.csv'.format(tp,tract,metric)))\n",
    "csv3['{}.{}.{}.mean'.format(tract,metric,tp)] = csv3.iloc[:,3:103].mean(axis=1)\n",
    "l_md = csv3[['subject ID', '{}.{}.{}.mean'.format(tract,metric,tp)]]\n",
    "\n",
    "metric='RD'\n",
    "csv4 = pd.read_csv(join(home, 'AFQ_Cleaned_4.30.19/ELS_{}_Cleaned_{}_{}.csv'.format(tp,tract,metric)))\n",
    "csv4['{}.{}.{}.mean'.format(tract,metric,tp)] = csv4.iloc[:,3:103].mean(axis=1)\n",
    "l_rd = csv[['subject ID', '{}.{}.{}.mean'.format(tract,metric,tp)]]\n",
    "\n",
    "m1 = pd.merge(l_fa, l_ad, on='subject ID', how='outer')\n",
    "m2 = pd.merge(m1, l_md, on='subject ID', how='outer')\n",
    "m3 = pd.merge(m2, l_rd, on='subject ID', how='outer')\n",
    "\n",
    "m3#.to_csv(dest+'/{}_allMetrics_4.20.19.csv'.format(tract))"
   ]
  },
  {
   "cell_type": "code",
   "execution_count": 3,
   "metadata": {},
   "outputs": [],
   "source": [
    "hemi='Left'\n",
    "metric='FA'\n",
    "csv = pd.read_csv(join(home, 'AFQ_Cleaned_4.30.19/ELS_{}_Cleaned_{}_{}_{}.csv'.format(tp,hemi,tract,metric)))\n",
    "csv['{}.{}.{}.{}.mean'.format(hemi,tract,metric,tp)] = csv.iloc[:,3:103].mean(axis=1)\n",
    "l_unc_fa = csv[['subject ID', '{}.{}.{}.{}.mean'.format(hemi,tract,metric,tp)]]"
   ]
  },
  {
   "cell_type": "code",
   "execution_count": 4,
   "metadata": {},
   "outputs": [],
   "source": [
    "hemi='Left'\n",
    "metric='AD'\n",
    "csv = pd.read_csv(join(home, 'AFQ_Cleaned_4.30.19/ELS_{}_Cleaned_{}_{}_{}.csv'.format(tp,hemi,tract,metric)))\n",
    "csv['{}.{}.{}.{}.mean'.format(hemi,tract,metric,tp)] = csv.iloc[:,3:103].mean(axis=1)\n",
    "l_unc_ad = csv[['subject ID', '{}.{}.{}.{}.mean'.format(hemi,tract,metric,tp)]]"
   ]
  },
  {
   "cell_type": "code",
   "execution_count": 5,
   "metadata": {},
   "outputs": [],
   "source": [
    "hemi='Left'\n",
    "metric='MD'\n",
    "csv = pd.read_csv(join(home, 'AFQ_Cleaned_4.30.19/ELS_{}_Cleaned_{}_{}_{}.csv'.format(tp,hemi,tract,metric)))\n",
    "csv['{}.{}.{}.{}.mean'.format(hemi,tract,metric,tp)] = csv.iloc[:,3:103].mean(axis=1)\n",
    "l_unc_md = csv[['subject ID', '{}.{}.{}.{}.mean'.format(hemi,tract,metric,tp)]]"
   ]
  },
  {
   "cell_type": "code",
   "execution_count": 6,
   "metadata": {},
   "outputs": [],
   "source": [
    "hemi='Left'\n",
    "metric='RD'\n",
    "csv = pd.read_csv(join(home, 'AFQ_Cleaned_4.30.19/ELS_{}_Cleaned_{}_{}_{}.csv'.format(tp,hemi,tract,metric)))\n",
    "csv['{}.{}.{}.{}.mean'.format(hemi,tract,metric,tp)] = csv.iloc[:,3:103].mean(axis=1)\n",
    "l_unc_rd = csv[['subject ID', '{}.{}.{}.{}.mean'.format(hemi,tract,metric,tp)]]"
   ]
  },
  {
   "cell_type": "code",
   "execution_count": 7,
   "metadata": {},
   "outputs": [],
   "source": [
    "hemi='Right'\n",
    "metric='FA'\n",
    "csv = pd.read_csv(join(home, 'AFQ_Cleaned_4.30.19/ELS_{}_Cleaned_{}_{}_{}.csv'.format(tp,hemi,tract,metric)))\n",
    "csv['{}.{}.{}.{}.mean'.format(hemi,tract,metric,tp)] = csv.iloc[:,3:103].mean(axis=1)\n",
    "r_unc_fa = csv[['subject ID', '{}.{}.{}.{}.mean'.format(hemi,tract,metric,tp)]]"
   ]
  },
  {
   "cell_type": "code",
   "execution_count": 8,
   "metadata": {},
   "outputs": [],
   "source": [
    "hemi='Right'\n",
    "metric='AD'\n",
    "csv = pd.read_csv(join(home, 'AFQ_Cleaned_4.30.19/ELS_{}_Cleaned_{}_{}_{}.csv'.format(tp,hemi,tract,metric)))\n",
    "csv['{}.{}.{}.{}.mean'.format(hemi,tract,metric,tp)] = csv.iloc[:,3:103].mean(axis=1)\n",
    "r_unc_ad = csv[['subject ID', '{}.{}.{}.{}.mean'.format(hemi,tract,metric,tp)]]"
   ]
  },
  {
   "cell_type": "code",
   "execution_count": 9,
   "metadata": {},
   "outputs": [],
   "source": [
    "hemi='Right'\n",
    "metric='MD'\n",
    "csv = pd.read_csv(join(home, 'AFQ_Cleaned_4.30.19/ELS_{}_Cleaned_{}_{}_{}.csv'.format(tp,hemi,tract,metric)))\n",
    "csv['{}.{}.{}.{}.mean'.format(hemi,tract,metric,tp)] = csv.iloc[:,3:103].mean(axis=1)\n",
    "r_unc_md = csv[['subject ID', '{}.{}.{}.{}.mean'.format(hemi,tract,metric,tp)]]"
   ]
  },
  {
   "cell_type": "code",
   "execution_count": 10,
   "metadata": {},
   "outputs": [],
   "source": [
    "hemi='Right'\n",
    "metric='RD'\n",
    "csv = pd.read_csv(join(home, 'AFQ_Cleaned_4.30.19/ELS_{}_Cleaned_{}_{}_{}.csv'.format(tp,hemi,tract,metric)))\n",
    "csv['{}.{}.{}.{}.mean'.format(hemi,tract,metric,tp)] = csv.iloc[:,3:103].mean(axis=1)\n",
    "r_unc_rd = csv[['subject ID', '{}.{}.{}.{}.mean'.format(hemi,tract,metric,tp)]]"
   ]
  },
  {
   "cell_type": "code",
   "execution_count": 11,
   "metadata": {},
   "outputs": [],
   "source": [
    "m1 = pd.merge(l_unc_fa, l_unc_ad, on='subject ID', how='outer')\n",
    "m2 = pd.merge(m1, l_unc_md, on='subject ID', how='outer')\n",
    "m3 = pd.merge(m2, l_unc_rd, on='subject ID', how='outer')\n",
    "m4 = pd.merge(m3, r_unc_fa, on='subject ID', how='outer')\n",
    "m5 = pd.merge(m4, r_unc_ad, on='subject ID', how='outer')\n",
    "m6 = pd.merge(m5, r_unc_md, on='subject ID', how='outer')\n",
    "m7 = pd.merge(m6, r_unc_rd, on='subject ID', how='outer')\n",
    "\n",
    "m7.to_csv(dest+'/{}_allMetrics_4.20.19.csv'.format(tract))"
   ]
  },
  {
   "cell_type": "code",
   "execution_count": 30,
   "metadata": {},
   "outputs": [],
   "source": [
    "age=pd.read_csv('/Users/myelin/Desktop/T2_Ages_Dates.csv',header=0,dtype=str)\n",
    "ifof = pd.read_csv(dest+'/IFOF_allMetrics_4.20.19.csv')\n",
    "ccmin=pd.read_csv(dest+'/Callosum_Forceps_Minor_allMetrics_4.20.19.csv')\n",
    "ccmaj=pd.read_csv(dest+'/Callosum_Forceps_Major_allMetrics_4.20.19.csv')\n",
    "cing = pd.read_csv(dest+'/Cingulum_Cingulate_allMetrics_4.20.19.csv')\n",
    "cst=pd.read_csv(dest+'/Corticospinal_allMetrics_4.20.19.csv')\n",
    "unc=pd.read_csv(dest+'/Uncinate_allMetrics_4.20.19.csv')\n",
    "\n",
    "ma=pd.merge(cing,ccmin, on='subject ID', how='outer')\n",
    "mb=pd.merge(ma, ccmaj, on='subject ID', how='outer')\n",
    "mc=pd.merge(mb, cst, on='subject ID', how='outer')\n",
    "md=pd.merge(mc, ifof, on='subject ID', how='outer')\n",
    "me=pd.merge(md, unc, on='subject ID', how='outer')\n",
    "mf=pd.merge(me, age, on='subject ID', how='left')\n",
    "\n",
    "mf.columns=mf.columns.str.replace('Callosum_Forceps_Minor','CC.Minor').str.replace('Callosum_Forceps_Major','CC.Major').str.replace('Left','L').str.replace('Right','R')\n",
    "mf.columns=mf.columns.str.replace('Cingulum_Cingulate', 'CGC').str.replace('Corticospinal', 'CST').str.replace('Uncinate', 'UF').str.replace('subject ID', 'ID').str.replace(' ', '.')\n",
    "mf.rename(columns={'Date.of.Scan':'Date.of.Scan.T2', 'Age.at.Scan':'Age.at.Scan.T2'}, inplace=True)\n",
    "final = mf[['ID','Date.of.Scan.T2','Age.at.Scan.T2','CC.Major.FA.T2.mean','CC.Minor.FA.T2.mean','CC.Major.AD.T2.mean','CC.Minor.AD.T2.mean',\n",
    "'CC.Major.MD.T2.mean','CC.Minor.MD.T2.mean','CC.Major.RD.T2.mean','CC.Minor.RD.T2.mean','L.CGC.FA.T2.mean','R.CGC.FA.T2.mean',\n",
    "'L.CGC.AD.T2.mean','R.CGC.AD.T2.mean','L.CGC.MD.T2.mean','R.CGC.MD.T2.mean','L.CGC.RD.T2.mean','R.CGC.RD.T2.mean','L.CST.FA.T2.mean',\n",
    "'R.CST.FA.T2.mean','L.CST.AD.T2.mean','R.CST.AD.T2.mean','L.CST.MD.T2.mean','R.CST.MD.T2.mean','L.CST.RD.T2.mean','R.CST.RD.T2.mean',\n",
    "'L.IFOF.FA.T2.mean','R.IFOF.FA.T2.mean','L.IFOF.AD.T2.mean','R.IFOF.AD.T2.mean','L.IFOF.MD.T2.mean','R.IFOF.MD.T2.mean','L.IFOF.RD.T2.mean',\n",
    "'R.IFOF.RD.T2.mean','L.UF.FA.T2.mean','R.UF.FA.T2.mean','L.UF.AD.T2.mean','R.UF.AD.T2.mean','L.UF.MD.T2.mean','R.UF.MD.T2.mean','L.UF.RD.T2.mean','R.UF.RD.T2.mean']]\n",
    "final.sort_values(by='ID').to_csv(dest +'/trialdoc.csv')"
   ]
  },
  {
   "cell_type": "code",
   "execution_count": 26,
   "metadata": {},
   "outputs": [
    {
     "data": {
      "text/plain": [
       "('R.IFOF.RD.T2.mean',\n",
       " 'L.UF.FA.T2.mean',\n",
       " 'R.UF.FA.T2.mean',\n",
       " 'L.UF.AD.T2.mean',\n",
       " 'R.UF.AD.T2.mean',\n",
       " 'L.UF.MD.T2.mean',\n",
       " 'R.UF.MD.T2.mean',\n",
       " 'L.UF.RD.T2.mean',\n",
       " 'R.UF.RD.T2.mean')"
      ]
     },
     "execution_count": 26,
     "metadata": {},
     "output_type": "execute_result"
    }
   ],
   "source": []
  },
  {
   "cell_type": "code",
   "execution_count": null,
   "metadata": {},
   "outputs": [],
   "source": []
  }
 ],
 "metadata": {
  "kernelspec": {
   "display_name": "Python 3",
   "language": "python",
   "name": "python3"
  },
  "language_info": {
   "codemirror_mode": {
    "name": "ipython",
    "version": 3
   },
   "file_extension": ".py",
   "mimetype": "text/x-python",
   "name": "python",
   "nbconvert_exporter": "python",
   "pygments_lexer": "ipython3",
   "version": "3.6.4"
  },
  "toc": {
   "base_numbering": 1,
   "nav_menu": {},
   "number_sections": true,
   "sideBar": true,
   "skip_h1_title": false,
   "title_cell": "Table of Contents",
   "title_sidebar": "Contents",
   "toc_cell": false,
   "toc_position": {},
   "toc_section_display": true,
   "toc_window_display": false
  }
 },
 "nbformat": 4,
 "nbformat_minor": 2
}
