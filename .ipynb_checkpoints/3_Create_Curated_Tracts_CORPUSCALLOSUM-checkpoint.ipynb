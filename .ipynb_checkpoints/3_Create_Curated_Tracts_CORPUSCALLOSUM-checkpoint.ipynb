{
 "cells": [
  {
   "cell_type": "code",
   "execution_count": 63,
   "metadata": {},
   "outputs": [],
   "source": [
    "import pandas as pd\n",
    "import csv\n",
    "from datetime import date\n",
    "from os import makedirs\n",
    "from glob import glob\n",
    "today=str(date.today())"
   ]
  },
  {
   "cell_type": "code",
   "execution_count": 64,
   "metadata": {},
   "outputs": [],
   "source": [
    "home='/Volumes/iang/ELS_data/ELS_DTI_Analysis/ELS_T2/matproc/AFQ_results'\n",
    "dest='/Volumes/iang/ELS_data/ELS_DTI_Analysis/Results'\n",
    "\n",
    "tp='T2'\n",
    "tract='IFOF'\n",
    "date_updated='2019-05-01'"
   ]
  },
  {
   "cell_type": "code",
   "execution_count": 65,
   "metadata": {},
   "outputs": [],
   "source": [
    "hem='Left'\n",
    "metric='FA'\n",
    "flist= glob(home + '/{}/ELS_{}_Updated_Cleaned_{}_{}_{}_*.csv'.format(tract, tp, hem,tract,metric))\n",
    "for x in flist:\n",
    "    tractdf = pd.read_csv(x, header=0)\n",
    "maindf = tractdf[['subject ID', 'Date.of.Scan.{}'.format(tp), 'Age.at.Scan.{}'.format(tp)]]\n",
    "maindf.to_csv(dest+'/{}/ELS_{}_Curated_DTI_{}.csv'.format(tp, tp, today))\n",
    "maindf.set_index('subject ID', inplace=True)"
   ]
  },
  {
   "cell_type": "code",
   "execution_count": 66,
   "metadata": {},
   "outputs": [],
   "source": [
    "hem='Left'\n",
    "metric='FA'\n",
    "df = pd.read_csv(home + '/{}/ELS_{}_Updated_Cleaned_{}_{}_{}_{}.csv'.format(tract, tp, hem,tract,metric, date_updated), header=0)\n",
    "meanfa = df[['subject ID', '{}.{}.{}.{}.mean'.format(hem,tract,metric,tp)]]\n",
    "meanfa.set_index('subject ID', inplace=True)\n",
    "\n",
    "metric='AD'\n",
    "df = pd.read_csv(home + '/{}/ELS_{}_Updated_Cleaned_{}_{}_{}_{}.csv'.format(tract, tp, hem,tract,metric, date_updated), header=0)\n",
    "meanad = df[['subject ID', '{}.{}.{}.{}.mean'.format(hem,tract,metric,tp)]]\n",
    "meanad.set_index('subject ID', inplace=True)\n",
    "\n",
    "metric='MD'\n",
    "df = pd.read_csv(home + '/{}/ELS_{}_Updated_Cleaned_{}_{}_{}_{}.csv'.format(tract, tp, hem,tract,metric, date_updated), header=0)\n",
    "meanmd = df[['subject ID', '{}.{}.{}.{}.mean'.format(hem,tract,metric,tp)]]\n",
    "meanmd.set_index('subject ID', inplace=True)\n",
    "\n",
    "metric='RD'\n",
    "df = pd.read_csv(home + '/{}/ELS_{}_Updated_Cleaned_{}_{}_{}_{}.csv'.format(tract, tp, hem,tract,metric, date_updated), header=0)\n",
    "meanrd = df[['subject ID', '{}.{}.{}.{}.mean'.format(hem,tract,metric,tp)]]\n",
    "meanrd.set_index('subject ID', inplace=True)\n",
    "left_tract=pd.concat([maindf, meanfa,meanad,meanmd, meanrd], axis=1, join='outer')"
   ]
  },
  {
   "cell_type": "code",
   "execution_count": 67,
   "metadata": {},
   "outputs": [],
   "source": [
    "hem='Right'\n",
    "metric='FA'\n",
    "df = pd.read_csv(home + '/{}/ELS_{}_Updated_Cleaned_{}_{}_{}_{}.csv'.format(tract, tp, hem,tract,metric, date_updated), header=0)\n",
    "meanfa = df[['subject ID', '{}.{}.{}.{}.mean'.format(hem,tract,metric,tp)]]\n",
    "meanfa.set_index('subject ID', inplace=True)\n",
    "\n",
    "metric='AD'\n",
    "df = pd.read_csv(home + '/{}/ELS_{}_Updated_Cleaned_{}_{}_{}_{}.csv'.format(tract, tp, hem,tract,metric, date_updated), header=0)\n",
    "meanad = df[['subject ID', '{}.{}.{}.{}.mean'.format(hem,tract,metric,tp)]]\n",
    "meanad.set_index('subject ID', inplace=True)\n",
    "\n",
    "metric='MD'\n",
    "df = pd.read_csv(home + '/{}/ELS_{}_Updated_Cleaned_{}_{}_{}_{}.csv'.format(tract, tp, hem,tract,metric, date_updated), header=0)\n",
    "meanmd = df[['subject ID', '{}.{}.{}.{}.mean'.format(hem,tract,metric,tp)]]\n",
    "meanmd.set_index('subject ID', inplace=True)\n",
    "\n",
    "metric='RD'\n",
    "df = pd.read_csv(home + '/{}/ELS_{}_Updated_Cleaned_{}_{}_{}_{}.csv'.format(tract, tp, hem,tract,metric, date_updated), header=0)\n",
    "meanrd = df[['subject ID', '{}.{}.{}.{}.mean'.format(hem,tract,metric,tp)]]\n",
    "meanrd.set_index('subject ID', inplace=True)\n",
    "right_tract=pd.concat([meanfa,meanad,meanmd, meanrd], axis=1, join='outer')"
   ]
  },
  {
   "cell_type": "code",
   "execution_count": 68,
   "metadata": {},
   "outputs": [],
   "source": [
    "both_tracts = pd.concat([left_tract, right_tract], axis=1, join='outer')\n",
    "both_tracts.to_csv(dest+'/{}/ELS_{}_{}_Curated_{}.csv'.format(tp, tp, tract, today))"
   ]
  }
 ],
 "metadata": {
  "kernelspec": {
   "display_name": "Python 3",
   "language": "python",
   "name": "python3"
  },
  "language_info": {
   "codemirror_mode": {
    "name": "ipython",
    "version": 3
   },
   "file_extension": ".py",
   "mimetype": "text/x-python",
   "name": "python",
   "nbconvert_exporter": "python",
   "pygments_lexer": "ipython3",
   "version": "3.6.4"
  },
  "toc": {
   "base_numbering": 1,
   "nav_menu": {},
   "number_sections": true,
   "sideBar": true,
   "skip_h1_title": false,
   "title_cell": "Table of Contents",
   "title_sidebar": "Contents",
   "toc_cell": false,
   "toc_position": {},
   "toc_section_display": true,
   "toc_window_display": false
  }
 },
 "nbformat": 4,
 "nbformat_minor": 2
}
