{
 "cells": [
  {
   "cell_type": "code",
   "execution_count": 40,
   "metadata": {},
   "outputs": [],
   "source": [
    "from os import path, makedirs, rename\n",
    "from glob import glob\n",
    "from pandas import Series\n",
    "from shutil import copyfile"
   ]
  },
  {
   "cell_type": "code",
   "execution_count": 41,
   "metadata": {},
   "outputs": [],
   "source": [
    "home = '/Volumes/iang/active/BABIES'\n",
    "homec = home + '/BABIES_Crossectional/BABIES_Crossectional-T1'\n",
    "subsc = Series(glob(homec + '/*-C-T1')).str.replace(homec + '/', '')\n",
    "newdir = '/Users/myelin/Desktop'"
   ]
  },
  {
   "cell_type": "code",
   "execution_count": 42,
   "metadata": {},
   "outputs": [],
   "source": [
    "copy_ready = []\n",
    "doesntexist = []\n",
    "def check_file(file):\n",
    "    if path.exists(file):\n",
    "        if path.exists(newdir+'/BABIES_Crossectional/'+sub):\n",
    "            print('Path exists for {}'.format(file))\n",
    "            copy_ready.append(file)\n",
    "        else:\n",
    "            makedirs(newdir+'/BABIES_Crossectional/'+sub)\n",
    "            copy_ready.append(file)\n",
    "    else:\n",
    "        print('Could not find {}'.format(file))\n",
    "        doesntexist.append(file)"
   ]
  },
  {
   "cell_type": "code",
   "execution_count": 46,
   "metadata": {},
   "outputs": [
    {
     "name": "stdout",
     "output_type": "stream",
     "text": [
      "Path exists for /Volumes/iang/active/BABIES/BABIES_Crossectional/BABIES_Crossectional-T1/110-C-T1/anat/t1w/t1w.nii.gz\n"
     ]
    },
    {
     "ename": "KeyboardInterrupt",
     "evalue": "",
     "output_type": "error",
     "traceback": [
      "\u001b[0;31m---------------------------------------------------------------------------\u001b[0m",
      "\u001b[0;31mKeyboardInterrupt\u001b[0m                         Traceback (most recent call last)",
      "\u001b[0;32m<ipython-input-46-67989d1a3584>\u001b[0m in \u001b[0;36m<module>\u001b[0;34m()\u001b[0m\n\u001b[1;32m     18\u001b[0m         \u001b[0mname\u001b[0m \u001b[0;34m=\u001b[0m \u001b[0mfile\u001b[0m\u001b[0;34m.\u001b[0m\u001b[0mreplace\u001b[0m\u001b[0;34m(\u001b[0m\u001b[0mhomec\u001b[0m\u001b[0;34m+\u001b[0m\u001b[0;34m'/'\u001b[0m\u001b[0;34m+\u001b[0m\u001b[0msub\u001b[0m\u001b[0;34m+\u001b[0m\u001b[0;34m'/anat/'\u001b[0m\u001b[0;34m,\u001b[0m \u001b[0;34m''\u001b[0m\u001b[0;34m)\u001b[0m\u001b[0;34m.\u001b[0m\u001b[0mreplace\u001b[0m\u001b[0;34m(\u001b[0m\u001b[0;34m'/'\u001b[0m\u001b[0;34m,\u001b[0m \u001b[0;34m'.'\u001b[0m\u001b[0;34m)\u001b[0m\u001b[0;34m\u001b[0m\u001b[0m\n\u001b[1;32m     19\u001b[0m         \u001b[0;32mfor\u001b[0m \u001b[0mfile1\u001b[0m \u001b[0;32min\u001b[0m \u001b[0mcopy_ready\u001b[0m\u001b[0;34m:\u001b[0m\u001b[0;34m\u001b[0m\u001b[0m\n\u001b[0;32m---> 20\u001b[0;31m             \u001b[0mcopyfile\u001b[0m\u001b[0;34m(\u001b[0m\u001b[0mfile1\u001b[0m\u001b[0;34m,\u001b[0m \u001b[0mnewdir\u001b[0m \u001b[0;34m+\u001b[0m \u001b[0;34m'/BABIES_Crossectional/'\u001b[0m \u001b[0;34m+\u001b[0m \u001b[0msub\u001b[0m \u001b[0;34m+\u001b[0m \u001b[0;34m'/'\u001b[0m\u001b[0;34m+\u001b[0m\u001b[0mname\u001b[0m\u001b[0;34m)\u001b[0m\u001b[0;34m\u001b[0m\u001b[0m\n\u001b[0m",
      "\u001b[0;32m/usr/local/anaconda3/lib/python3.6/shutil.py\u001b[0m in \u001b[0;36mcopyfile\u001b[0;34m(src, dst, follow_symlinks)\u001b[0m\n\u001b[1;32m    120\u001b[0m         \u001b[0;32mwith\u001b[0m \u001b[0mopen\u001b[0m\u001b[0;34m(\u001b[0m\u001b[0msrc\u001b[0m\u001b[0;34m,\u001b[0m \u001b[0;34m'rb'\u001b[0m\u001b[0;34m)\u001b[0m \u001b[0;32mas\u001b[0m \u001b[0mfsrc\u001b[0m\u001b[0;34m:\u001b[0m\u001b[0;34m\u001b[0m\u001b[0m\n\u001b[1;32m    121\u001b[0m             \u001b[0;32mwith\u001b[0m \u001b[0mopen\u001b[0m\u001b[0;34m(\u001b[0m\u001b[0mdst\u001b[0m\u001b[0;34m,\u001b[0m \u001b[0;34m'wb'\u001b[0m\u001b[0;34m)\u001b[0m \u001b[0;32mas\u001b[0m \u001b[0mfdst\u001b[0m\u001b[0;34m:\u001b[0m\u001b[0;34m\u001b[0m\u001b[0m\n\u001b[0;32m--> 122\u001b[0;31m                 \u001b[0mcopyfileobj\u001b[0m\u001b[0;34m(\u001b[0m\u001b[0mfsrc\u001b[0m\u001b[0;34m,\u001b[0m \u001b[0mfdst\u001b[0m\u001b[0;34m)\u001b[0m\u001b[0;34m\u001b[0m\u001b[0m\n\u001b[0m\u001b[1;32m    123\u001b[0m     \u001b[0;32mreturn\u001b[0m \u001b[0mdst\u001b[0m\u001b[0;34m\u001b[0m\u001b[0m\n\u001b[1;32m    124\u001b[0m \u001b[0;34m\u001b[0m\u001b[0m\n",
      "\u001b[0;32m/usr/local/anaconda3/lib/python3.6/shutil.py\u001b[0m in \u001b[0;36mcopyfileobj\u001b[0;34m(fsrc, fdst, length)\u001b[0m\n\u001b[1;32m     77\u001b[0m     \u001b[0;34m\"\"\"copy data from file-like object fsrc to file-like object fdst\"\"\"\u001b[0m\u001b[0;34m\u001b[0m\u001b[0m\n\u001b[1;32m     78\u001b[0m     \u001b[0;32mwhile\u001b[0m \u001b[0;36m1\u001b[0m\u001b[0;34m:\u001b[0m\u001b[0;34m\u001b[0m\u001b[0m\n\u001b[0;32m---> 79\u001b[0;31m         \u001b[0mbuf\u001b[0m \u001b[0;34m=\u001b[0m \u001b[0mfsrc\u001b[0m\u001b[0;34m.\u001b[0m\u001b[0mread\u001b[0m\u001b[0;34m(\u001b[0m\u001b[0mlength\u001b[0m\u001b[0;34m)\u001b[0m\u001b[0;34m\u001b[0m\u001b[0m\n\u001b[0m\u001b[1;32m     80\u001b[0m         \u001b[0;32mif\u001b[0m \u001b[0;32mnot\u001b[0m \u001b[0mbuf\u001b[0m\u001b[0;34m:\u001b[0m\u001b[0;34m\u001b[0m\u001b[0m\n\u001b[1;32m     81\u001b[0m             \u001b[0;32mbreak\u001b[0m\u001b[0;34m\u001b[0m\u001b[0m\n",
      "\u001b[0;31mKeyboardInterrupt\u001b[0m: "
     ]
    }
   ],
   "source": [
    "subs = ['110-C-T1']\n",
    "for sub in subs:\n",
    "    t1 = homec+'/'+sub+'/anat/t1w/t1w.nii.gz'\n",
    "    t2 = homec+'/'+sub+'/anat/t2w/t2w.nii.gz'\n",
    "    qt1pe1 = homec+'/'+sub+'/anat/qt1/recon/qt1_pe1.nii.gz'\n",
    "    qt1pe0 = homec+'/'+sub+'/anat/qt1/recon/qt1_pe0.nii.gz'\n",
    "    dtipe1 = homec+'/'+sub+'/anat/dwi/recon/DTI_pe1.nii.gz'\n",
    "    dtipe0 = homec+'/'+sub+'/anat/dwi/recon/DTI_pe0_ms103.nii.gz'\n",
    "    pe1bvec = homec+'/'+sub+'/anat/dwi/recon/dti_pe1.bvec'\n",
    "    pe1bval = homec+'/'+sub+'/anat/dwi/recon/dti_pe1.bval'\n",
    "    pe0bvec = homec+'/'+sub+'/anat/dwi/recon/dti_pe0_ms103.bvec'\n",
    "    pe0bval = homec+'/'+sub+'/anat/dwi/recon/dti_pe0_ms103.bval'\n",
    "    \n",
    "    files = [t1, t2, qt1pe1, qt1pe0, pe1bvec, pe1bval, pe0bvec, pe0bval]\n",
    "    \n",
    "    for file in files:\n",
    "        check_file(file)\n",
    "        name = file.replace(homec+'/'+sub+'/anat/', '').replace('/', '.')\n",
    "        for file1 in copy_ready:\n",
    "            copyfile(file1, newdir + '/BABIES_Crossectional/' + sub + '/'+name)"
   ]
  },
  {
   "cell_type": "code",
   "execution_count": 30,
   "metadata": {},
   "outputs": [
    {
     "data": {
      "text/plain": [
       "['/Volumes/iang/active/BABIES/BABIES_Crossectional/BABIES_Crossectional-T1/110-C-T1/anat/t1w/t1w.nii.gz',\n",
       " '/Volumes/iang/active/BABIES/BABIES_Crossectional/BABIES_Crossectional-T1/110-C-T1/anat/t2w/t2w.nii.gz',\n",
       " '/Volumes/iang/active/BABIES/BABIES_Crossectional/BABIES_Crossectional-T1/110-C-T1/anat/qt1/recon/qt1_pe1.nii.gz',\n",
       " '/Volumes/iang/active/BABIES/BABIES_Crossectional/BABIES_Crossectional-T1/110-C-T1/anat/qt1/recon/qt1_pe0.nii.gz',\n",
       " '/Volumes/iang/active/BABIES/BABIES_Crossectional/BABIES_Crossectional-T1/110-C-T1/anat/dwi/recon/dti_pe1.bvec',\n",
       " '/Volumes/iang/active/BABIES/BABIES_Crossectional/BABIES_Crossectional-T1/110-C-T1/anat/dwi/recon/dti_pe1.bval',\n",
       " '/Volumes/iang/active/BABIES/BABIES_Crossectional/BABIES_Crossectional-T1/110-C-T1/anat/dwi/recon/dti_pe0_ms103.bvec',\n",
       " '/Volumes/iang/active/BABIES/BABIES_Crossectional/BABIES_Crossectional-T1/110-C-T1/anat/dwi/recon/dti_pe0_ms103.bval']"
      ]
     },
     "execution_count": 30,
     "metadata": {},
     "output_type": "execute_result"
    }
   ],
   "source": [
    "def rename_data():\n",
    "    newhome = newdir + '/BABIES_Crossectional/' + sub + '/'\n",
    "    if path.exists(newhome + '/t1w.t1w.nii.gz'):\n",
    "        rename(newhome + '/t1w.t1w.nii.gz', newhome + '/t1w_0.8mm_ax.nii.gz')\n",
    "    else:\n",
    "        print('T1w not found in new dir for {}'.format(sub))\n",
    "    if path.exists(newhome + '/t2w.t2w.nii.gz'):\n",
    "        rename(newhome + '/t2w.t2w.nii.gz', newhome + '/t2w_0.8mm_sag.nii.gz')\n",
    "    else:\n",
    "        print('T2w not found in new dir for {}'.format(sub))\n",
    "    if path.exists(newhome + '/qt1.recon.qt1_pe1.nii.gz'):\n",
    "        rename(newhome + '/qt1.recon.qt1_pe1.nii.gz', newhome + '/qt1_pe1.nii.gz')\n",
    "    else:\n",
    "        print('qT1 pe1 not found in new dir for {}'.format(sub))\n",
    "    if path.exists(newhome + '/qt1.recon.qt1_pe0.nii.gz'):\n",
    "        rename(newhome + '/qt1.recon.qt1_pe0.nii.gz', newhome + '/qt1_pe0.nii.gz')\n",
    "    else:\n",
    "        print('qT1 pe0 not found in new dir for {}'.format(sub))\n",
    "        \n",
    "    #Rename bvecs  \n",
    "    if path.exists(newhome + '/dwi.recon.dti_pe1.bvec'):\n",
    "        rename(newhome + '/dwi.recon.dti_pe1.bvec', newhome + '/dti_pe1.bvec')\n",
    "    else:\n",
    "        print('DTI pe1 bvec not found in new dir for {}'.format(sub))\n",
    "    if path.exists(newhome + '/dwi.recon.dti_pe0_ms103.bvec'):\n",
    "        rename(newhome + '/dwi.recon.dti_pe0_ms103.bvec', newhome + '/dti_pe0_ms103.bvec')\n",
    "    else:\n",
    "        print('DTI pe0 bvec not found in new dir for {}'.format(sub))\n",
    "    \n",
    "    #Rename bvals\n",
    "    if path.exists(newhome + '/dwi.recon.dti_pe1.bval'):\n",
    "        rename(newhome + '/dwi.recon.dti_pe1.bval', newhome + '/dti_pe1.bval')\n",
    "    else:\n",
    "        print('DTI pe1 bval not found in new dir for {}'.format(sub))\n",
    "    if path.exists(newhome + '/dwi.recon.dti_pe0_ms103.bval'):\n",
    "        rename(newhome + '/dwi.recon.dti_pe0_ms103.bval', newhome + '/dti_pe0_ms103.bval')\n",
    "    else:\n",
    "        print('DTI pe0 bval not found in new dir for {}'.format(sub))\n",
    "    \n",
    "        \n",
    "        "
   ]
  },
  {
   "cell_type": "code",
   "execution_count": null,
   "metadata": {},
   "outputs": [],
   "source": [
    "for"
   ]
  }
 ],
 "metadata": {
  "kernelspec": {
   "display_name": "Python 3",
   "language": "python",
   "name": "python3"
  },
  "language_info": {
   "codemirror_mode": {
    "name": "ipython",
    "version": 3
   },
   "file_extension": ".py",
   "mimetype": "text/x-python",
   "name": "python",
   "nbconvert_exporter": "python",
   "pygments_lexer": "ipython3",
   "version": "3.6.4"
  }
 },
 "nbformat": 4,
 "nbformat_minor": 2
}
