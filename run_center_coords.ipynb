{
 "cells": [
  {
   "cell_type": "code",
   "execution_count": 1,
   "metadata": {
    "collapsed": true
   },
   "outputs": [],
   "source": [
    "import pandas as pd\n",
    "import os\n",
    "import subprocess as sp\n",
    "from collections import defaultdict"
   ]
  },
  {
   "cell_type": "code",
   "execution_count": 2,
   "metadata": {},
   "outputs": [],
   "source": [
    "fp = '/Users/lucindasisk/Box Sync/Manpreet_MRS/'\n",
    "script = fp + '_ls_bin/'\n",
    "\n",
    "data = pd.read_csv(script + 'MRS_ID_Data_merged.csv')\n",
    "ids = data['CIBSR'].astype(str).sort_values()"
   ]
  },
  {
   "cell_type": "code",
   "execution_count": 55,
   "metadata": {},
   "outputs": [
    {
     "name": "stdout",
     "output_type": "stream",
     "text": [
      "Couldnt find path\n",
      "Couldnt find path\n"
     ]
    }
   ],
   "source": [
    "d = []\n",
    "for x in ids:\n",
    "    path = fp + x\n",
    "    if os.path.exists(path):\n",
    "        os.chdir(path)\n",
    "        p = os.popen('rdgehdr P*.7 |grep \"center coordinate\"')\n",
    "        d.append(x)\n",
    "        d.append(p.read())\n",
    "    else:\n",
    "        print('Couldnt find path')"
   ]
  },
  {
   "cell_type": "code",
   "execution_count": 66,
   "metadata": {},
   "outputs": [],
   "source": [
    "df = pd.DataFrame(d, columns = {\"ID\"})\n",
    "df.insert(1,'Output','')\n",
    "new_df = pd.DataFrame({'CIBSR':df['ID'].iloc[::2].values, 'Output':df['ID'].iloc[1::2].values})\n",
    "new_df['Cleaned'] = new_df['Output'].str.lstrip('...(R,A,S) center coordinate of image: (').str.rstrip(')\\n')\n",
    "new_df['RL'], new_df['AP'], new_df['SI'] = zip(*new_df[\"Cleaned\"].str.split().tolist())\n",
    "new_df['RL'] = new_df['RL'].str.rstrip(',')\n",
    "new_df['AP'] = new_df['AP'].str.rstrip(',')\n",
    "df_done = new_df[['CIBSR', 'RL', 'AP', 'SI']].astype(str).sort_values('CIBSR')\n",
    "df = pd.merge(df_done,data.sort_values('CIBSR').astype(str))\n",
    "df.to_csv(script + 'center_coord_data.csv')\n"
   ]
  },
  {
   "cell_type": "code",
   "execution_count": null,
   "metadata": {
    "collapsed": true
   },
   "outputs": [],
   "source": []
  },
  {
   "cell_type": "code",
   "execution_count": null,
   "metadata": {
    "collapsed": true
   },
   "outputs": [],
   "source": []
  },
  {
   "cell_type": "code",
   "execution_count": null,
   "metadata": {
    "collapsed": true
   },
   "outputs": [],
   "source": []
  }
 ],
 "metadata": {
  "kernelspec": {
   "display_name": "Python 3",
   "language": "python",
   "name": "python3"
  },
  "language_info": {
   "codemirror_mode": {
    "name": "ipython",
    "version": 3
   },
   "file_extension": ".py",
   "mimetype": "text/x-python",
   "name": "python",
   "nbconvert_exporter": "python",
   "pygments_lexer": "ipython3",
   "version": "3.6.3"
  }
 },
 "nbformat": 4,
 "nbformat_minor": 2
}
