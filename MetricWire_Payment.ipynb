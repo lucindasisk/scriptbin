{
 "cells": [
  {
   "cell_type": "code",
   "execution_count": 45,
   "metadata": {},
   "outputs": [],
   "source": [
    "import pandas as pd\n",
    "import os\n",
    "from numpy import nan\n",
    "import glob\n",
    "from datetime import date\n",
    "from numpy import nan\n",
    "today = str(date.today())"
   ]
  },
  {
   "cell_type": "code",
   "execution_count": 2,
   "metadata": {},
   "outputs": [],
   "source": [
    "home = '/Volumes/mooddata/ELS_RDoC/MetricWire/Survey Monitoring'\n",
    "idmaster = pd.read_csv(home + '/Exported Data/ELS Stanford Stress Study-participants.csv')"
   ]
  },
  {
   "cell_type": "code",
   "execution_count": 3,
   "metadata": {},
   "outputs": [
    {
     "name": "stdout",
     "output_type": "stream",
     "text": [
      "********\n",
      "Please make sure that there is only one version of each survey in the MetricWire/Surveys folder. \n",
      "Otherwise, the script will pull all versions of that survey and things will get confusing.\n",
      "********\n"
     ]
    }
   ],
   "source": [
    "print('********')\n",
    "print('Please make sure that there is only one version of each survey in the MetricWire/Surveys folder. ')\n",
    "print('Otherwise, the script will pull all versions of that survey and things will get confusing.')\n",
    "print('********')\n",
    "\n",
    "x = glob.glob(home + '/Exported Data/Dail*Emotio*.csv')\n",
    "for a in x:\n",
    "    Emotion = pd.read_csv(str(a))\n",
    "\n",
    "y = glob.glob(home + '/Exported Data/Si*Ev*.csv')\n",
    "for a in y:\n",
    "    SigEv = pd.read_csv(str(a))\n",
    "\n",
    "w = glob.glob(home + '/Exported Data/Dail*Sleep*.csv')\n",
    "for a in w:\n",
    "    Sleep8am = pd.read_csv(str(a))\n",
    "\n",
    "z = glob.glob(home + '/Exported Data/ELS*leep*.csv')\n",
    "for a in z:\n",
    "    ElsSleep = pd.read_csv(str(a))\n"
   ]
  },
  {
   "cell_type": "code",
   "execution_count": 29,
   "metadata": {},
   "outputs": [],
   "source": [
    "emo = Emotion[['Response Id', 'User Id', 'Survey Submitted Date']]\n",
    "sigev = SigEv[['Response Id', 'User Id', 'Survey Submitted Date']]\n",
    "sleep8 = Sleep8am[['Response Id', 'User Id', 'Survey Submitted Date']]\n",
    "elssl = ElsSleep[['Response Id', 'User Id', 'Survey Submitted Date']]"
   ]
  },
  {
   "cell_type": "code",
   "execution_count": 32,
   "metadata": {},
   "outputs": [],
   "source": [
    "#Clean MW and ELS IDs\n",
    "idmaster['ELS ID'] = idmaster['Name'].str.rstrip(' ELS-T3')\n",
    "idmaster.rename({'Identifier':'MW ID'}, axis=1, inplace=True)\n",
    "idmaster.replace('Not yet registered', nan, inplace=True)\n",
    "ids = idmaster[['ELS ID', 'MW ID','Enrolled']].dropna().reset_index()"
   ]
  },
  {
   "cell_type": "code",
   "execution_count": 34,
   "metadata": {},
   "outputs": [],
   "source": [
    "alldf1 = pd.concat([emo,sigev,sleep8,elssl])\n",
    "alldf1.rename({'User Id':'MW ID'}, axis=1, inplace=True)\n",
    "alldf1['Date_Submitted'] = pd.to_datetime(alldf1['Survey Submitted Date'], dayfirst=True)\n",
    "alldf = pd.merge(ids, alldf1, on='MW ID', how='outer').drop(['index'], axis=1)"
   ]
  },
  {
   "cell_type": "code",
   "execution_count": 35,
   "metadata": {},
   "outputs": [
    {
     "name": "stdout",
     "output_type": "stream",
     "text": [
      "Please enter the MetricWire ID for the subject you wish to check: 056p\n"
     ]
    }
   ],
   "source": [
    "subject = input(\"Please enter the MetricWire ID for the subject you wish to check: \")"
   ]
  },
  {
   "cell_type": "code",
   "execution_count": 48,
   "metadata": {},
   "outputs": [],
   "source": [
    "userdf = alldf.groupby(['ELS ID','Date_Submitted','MW ID']).count().reset_index()\n",
    "subdf = userdf.loc[userdf['ELS ID'] == (subject)].drop(['Survey Submitted Date', 'Enrolled'], axis=1)\n",
    "subdf.rename({'Response Id':'Response Count'}, axis=1,inplace=True)\n",
    "subdf.to_csv(home +'/Payment/{}_MetricWire_Completion_'.format(subject)+today+'.csv')"
   ]
  },
  {
   "cell_type": "code",
   "execution_count": null,
   "metadata": {},
   "outputs": [],
   "source": []
  }
 ],
 "metadata": {
  "kernelspec": {
   "display_name": "Python 3",
   "language": "python",
   "name": "python3"
  },
  "language_info": {
   "codemirror_mode": {
    "name": "ipython",
    "version": 3
   },
   "file_extension": ".py",
   "mimetype": "text/x-python",
   "name": "python",
   "nbconvert_exporter": "python",
   "pygments_lexer": "ipython3",
   "version": "3.6.4"
  },
  "toc": {
   "base_numbering": 1,
   "nav_menu": {},
   "number_sections": true,
   "sideBar": true,
   "skip_h1_title": false,
   "title_cell": "Table of Contents",
   "title_sidebar": "Contents",
   "toc_cell": false,
   "toc_position": {},
   "toc_section_display": true,
   "toc_window_display": false
  }
 },
 "nbformat": 4,
 "nbformat_minor": 2
}
