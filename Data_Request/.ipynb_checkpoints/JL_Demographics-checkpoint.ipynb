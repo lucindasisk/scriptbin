{
 "cells": [
  {
   "cell_type": "code",
   "execution_count": 1,
   "metadata": {
    "collapsed": true
   },
   "outputs": [],
   "source": [
    "import os \n",
    "import pandas as pd\n",
    "from scipy import stats\n",
    "pd.set_option('display.max_columns', None)  "
   ]
  },
  {
   "cell_type": "code",
   "execution_count": 2,
   "metadata": {
    "collapsed": true
   },
   "outputs": [],
   "source": [
    "demoT1K01 = pd.read_csv(\"K01_ELST1_Demographics_Combined.csv\", header=0)\n",
    "ids = pd.read_csv(\"Josiah_Subs_IDs.csv\", header=0)\n",
    "combined = pd.merge(ids,demoT1K01)\n",
    "data1 = combined[['ELS_ID','T1_Child_Sex_R', 'T1S1_Age','T1S2_Age','TannerAvg','T1_KSADS_Child_Race']] #JL wants race or ethnicity? K01 race/ethnicity MIA\n",
    "time = pd.read_csv(\"time_intervals.csv\", header=0)\n",
    "ids_w_t2 = pd.merge(ids, time)\n"
   ]
  },
  {
   "cell_type": "code",
   "execution_count": 3,
   "metadata": {
    "collapsed": true
   },
   "outputs": [],
   "source": [
    "#Demographics on data1\n",
    "girls = data1[data1.T1_Child_Sex_R == 1]\n",
    "f_tan_avg = girls['TannerAvg'].mean()\n",
    "f_tan_std = girls['TannerAvg'].std()\n",
    "f_age_avg = pd.to_numeric(girls['T1S1_Age']).mean()\n",
    "f_age_std = pd.to_numeric(girls['T1S1_Age']).std()\n",
    "\n",
    "#Demographics on Boys\n",
    "boys = data1[data1.T1_Child_Sex_R == 0]\n",
    "m_tan_avg = boys['TannerAvg'].mean()\n",
    "m_tan_std = boys['TannerAvg'].std()\n",
    "m_age_avg = pd.to_numeric(boys['T1S1_Age']).mean()\n",
    "m_age_std = pd.to_numeric(boys['T1S1_Age']).std()\n",
    "\n",
    "#Overall Demographics\n",
    "tan_avg = data1['TannerAvg'].mean()\n",
    "tan_std = data1['TannerAvg'].std()\n",
    "tan_range1 = data1['TannerAvg'].min()\n",
    "tan_range2 = data1['TannerAvg'].max()\n",
    "age_avg = pd.to_numeric(data1['T1S1_Age']).mean()\n",
    "age_std = pd.to_numeric(data1['T1S1_Age']).std()\n",
    "min_age = pd.to_numeric(data1['T1S1_Age']).min()\n",
    "max_age = pd.to_numeric(data1['T1S1_Age']).max()\n",
    "num_data = len(data1)\n",
    "num_boys = len(data1[data1.T1_Child_Sex_R == 0])\n",
    "num_girls = len(data1[data1.T1_Child_Sex_R == 1])\n",
    "\n",
    "totrace = len(data1)#race1 + race2 + race3 + race4 + race5 + race6 + race7 + didntget_race + unknown_race\n",
    "\n",
    "#Race & Ethnicity Calculations Overall and by Sex\n",
    "race1 = (len(data1[data1.T1_KSADS_Child_Race == 1])/totrace)*100\n",
    "race2 = (len(data1[data1.T1_KSADS_Child_Race == 2])/totrace)*100\n",
    "race3 = len(data1[data1.T1_KSADS_Child_Race == 3])/totrace*100\n",
    "race4 = len(data1[data1.T1_KSADS_Child_Race == 4])/totrace*100\n",
    "race5 = len(data1[data1.T1_KSADS_Child_Race == 5])/totrace*100\n",
    "race6 = len(data1[data1.T1_KSADS_Child_Race == 6])/totrace*100\n",
    "race7 = len(data1[data1.T1_KSADS_Child_Race == 7])/totrace*100\n",
    "didntget_race = len(data1[data1.T1_KSADS_Child_Race == 888])/totrace*100\n",
    "unknown_race = len(data1[data1.T1_KSADS_Child_Race == 999])/totrace*100\n",
    "\n",
    "totfrace = len(girls)\n",
    "frace1 = len(girls[girls.T1_KSADS_Child_Race == 1])/totfrace*100\n",
    "frace2 = len(girls[girls.T1_KSADS_Child_Race == 2])/totfrace*100\n",
    "frace3 = len(girls[girls.T1_KSADS_Child_Race == 3])/totfrace*100\n",
    "frace4 = len(girls[girls.T1_KSADS_Child_Race == 4])/totfrace*100\n",
    "frace5 = len(girls[girls.T1_KSADS_Child_Race == 5])/totfrace*100\n",
    "frace6 = len(girls[girls.T1_KSADS_Child_Race == 6])/totfrace*100\n",
    "frace7 = len(girls[girls.T1_KSADS_Child_Race == 7])/totfrace*100\n",
    "fdidntget_race = len(girls[girls.T1_KSADS_Child_Race == 888])/totfrace*100\n",
    "funknown_race = len(girls[girls.T1_KSADS_Child_Race == 999])/totfrace*100\n",
    "\n",
    "totmrace = len(boys)\n",
    "mrace1 = len(boys[boys.T1_KSADS_Child_Race == 1])/totmrace*100\n",
    "mrace2 = len(boys[boys.T1_KSADS_Child_Race == 2])/totmrace*100\n",
    "mrace3 = len(boys[boys.T1_KSADS_Child_Race == 3])/totmrace*100\n",
    "mrace4 = len(boys[boys.T1_KSADS_Child_Race == 4])/totmrace*100\n",
    "mrace5 = len(boys[boys.T1_KSADS_Child_Race == 5])/totmrace*100\n",
    "mrace6 = len(boys[boys.T1_KSADS_Child_Race == 6])/totmrace*100\n",
    "mrace7 = len(boys[boys.T1_KSADS_Child_Race == 7])/totmrace*100\n",
    "mdidntget_race = len(boys[boys.T1_KSADS_Child_Race == 888])/totmrace*100\n",
    "munknown_race = len(boys[boys.T1_KSADS_Child_Race == 999])/totmrace*100\n",
    "\n",
    "#T1 - T2 duration info\n",
    "dur_mean = ids_w_t2['Months btwn T1S2 and T2S2'].mean()\n",
    "dur_std = ids_w_t2['Months btwn T1S2 and T2S2'].std()\n",
    "num_dur = len(ids_w_t2.dropna())\n",
    "shortest_dur = ids_w_t2['Months btwn T1S2 and T2S2'].min()\n",
    "longest_dur = ids_w_t2['Months btwn T1S2 and T2S2'].max()\n"
   ]
  },
  {
   "cell_type": "code",
   "execution_count": 4,
   "metadata": {},
   "outputs": [
    {
     "name": "stdout",
     "output_type": "stream",
     "text": [
      "Mean age: 11.463578822453604 ± 1.0686060272775055\n",
      "*******\n",
      "Youngest participant at T1S1: 9.106091718. Oldest participant at T1S1: 13.98494182\n",
      "*******\n",
      "Mean tanner stage overall: 2.056701030927835 ± 0.7495703236542207\n",
      "*******\n",
      "Lowest Tanner Stage: 1.0\n",
      "*******\n",
      "Highest Tanner Stage: 4.0\n",
      "*******\n",
      "Number of Girls: 63 Number of Boys: 34 Total: 97\n",
      "*******\n",
      "White: 50.51546391752577 African American: 10.309278350515463 Hispanic: 6.185567010309279 Asian: 15.463917525773196 Biracial: 9.278350515463918 Other: 7.216494845360824 Not Collected: 1.0309278350515463 Total Participants: 97 Total IDS: 97\n",
      "*******\n",
      "Shortest duration between T1 and T2: 16.95277207 months\n",
      "*******\n",
      "Longest duration between T1 and T2: 39.55646817 months\n",
      "*******\n",
      "Average duration between T1 and T2: 23.2813754638806 ± 4.884453607430034 months\n",
      "*******\n",
      "67 IDs out of 97 had T2 follow ups\n",
      "*******\n"
     ]
    }
   ],
   "source": [
    "#Print out Data\n",
    "\n",
    "#***********************************************\n",
    "# print(\"Mean age of girls: {} plus or minus {}\".format(f_age_avg, f_age_std))\n",
    "# print('*******')\n",
    "# print(\"Mean tanner stage of girls: {} plus or minus {}\".format(f_tan_avg, f_tan_std))\n",
    "# print('*******')\n",
    "# print(\"Mean age of boys: {} plus or minus {}\".format(m_age_avg, m_age_std))\n",
    "# print('*******')\n",
    "# print(\"Mean tanner stage of boys: {} plus or minus {}\".format(m_tan_avg, m_tan_std))\n",
    "# print('*******')\n",
    "# print(\"Mean tanner stage of boys: {} plus or minus {}\".format(m_tan_avg, m_tan_std))\n",
    "# print('*******')\n",
    "print(\"Mean age: {} ± {}\".format(age_avg, age_std))\n",
    "print('*******')\n",
    "print(\"Youngest participant at T1S1: {}. Oldest participant at T1S1: {}\".format(min_age, max_age))\n",
    "print('*******')\n",
    "print(\"Mean tanner stage overall: {} ± {}\".format(tan_avg, tan_std))\n",
    "print('*******')\n",
    "print(\"Lowest Tanner Stage: {}\".format(tan_range1))\n",
    "print('*******')\n",
    "print(\"Highest Tanner Stage: {}\".format(tan_range2))\n",
    "print('*******')\n",
    "print(\"Number of Girls: {} Number of Boys: {} Total: {}\".format(num_girls, num_boys, num_data))\n",
    "print('*******')\n",
    "totnot = race7 + didntget_race + unknown_race\n",
    "ftotnot = frace7 + fdidntget_race + funknown_race\n",
    "mtotnot = mrace7 + mdidntget_race + munknown_race\n",
    "print(\"White: {} African American: {} Hispanic: {} Asian: {} Biracial: {} Other: {} Not Collected: {} Total Participants: {} Total IDS: {}\".format(race1, race2, race3, race4, race5, race6, totnot, totrace, len(ids)))\n",
    "print('*******')\n",
    "# print(\"GIRLS | White: {} African American: {} Hispanic: {} Asian: {} Biracial: {} Other: {} Not Collected: {} Total Girls: {} Total IDS: {}\".format(frace1, frace2, frace3, frace4, frace5, frace6, ftotnot, totfrace, len(ids)))\n",
    "# print('*******')\n",
    "# fem = frace1 + frace2 + frace3 + frace4 + frace5 + frace6 + ftotnot \n",
    "# print(\"BOYS | White: {} African American: {} Hispanic: {} Asian: {} Biracial: {} Other: {} Not Collected: {} Total Boys: {} Total IDS: {}\".format(mrace1, mrace2, mrace3, mrace4, mrace5, mrace6, mtotnot, totmrace, len(ids)))\n",
    "\n",
    "print(\"Shortest duration between T1 and T2: {} months\".format(shortest_dur)) \n",
    "print('*******')\n",
    "print(\"Longest duration between T1 and T2: {} months\".format(longest_dur))\n",
    "print('*******')\n",
    "print('Average duration between T1 and T2: {} ± {} months'.format(dur_mean, dur_std))\n",
    "print('*******')\n",
    "print('{} IDs out of {} had T2 follow ups'.format(num_dur, len(ids)))\n",
    "print('*******')\n",
    "\n"
   ]
  },
  {
   "cell_type": "code",
   "execution_count": null,
   "metadata": {
    "collapsed": true
   },
   "outputs": [],
   "source": [
    " "
   ]
  }
 ],
 "metadata": {
  "kernelspec": {
   "display_name": "Python 3",
   "language": "python",
   "name": "python3"
  },
  "language_info": {
   "codemirror_mode": {
    "name": "ipython",
    "version": 3
   },
   "file_extension": ".py",
   "mimetype": "text/x-python",
   "name": "python",
   "nbconvert_exporter": "python",
   "pygments_lexer": "ipython3",
   "version": "3.6.3"
  }
 },
 "nbformat": 4,
 "nbformat_minor": 2
}
