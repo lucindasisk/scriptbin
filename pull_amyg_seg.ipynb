{
 "cells": [
  {
   "cell_type": "code",
   "execution_count": 75,
   "metadata": {},
   "outputs": [],
   "source": [
    "import pandas as pd\n",
    "import os\n",
    "from shutil import copy\n",
    "import glob\n",
    "import fnmatch"
   ]
  },
  {
   "cell_type": "code",
   "execution_count": 129,
   "metadata": {},
   "outputs": [],
   "source": [
    "home = '/Users/myelin/Dropbox/Projects/MS_Hippocampal_MRS/Subj_ACPC_Coords/'\n",
    "imagecentral = '/Volumes/ImageCentral/'\n",
    "data = pd.read_csv('MRS_ID_Data_merged.csv')\n",
    "ids = data['CIBSR'].astype(str)\n",
    "three_dig = ids.str[0:3]\n",
    "data['subsdir'] = 'Subjs_' + three_dig + '00'"
   ]
  },
  {
   "cell_type": "code",
   "execution_count": 139,
   "metadata": {},
   "outputs": [
    {
     "name": "stdout",
     "output_type": "stream",
     "text": [
      "/Volumes/ImageCentral/Subjs_13900/13904/08-09-02.2_3T/MRS/MRSi/MRSiAmygMid.tiff\n"
     ]
    }
   ],
   "source": [
    "for row in data.itertuples():\n",
    "    path = (imagecentral + str(row.subsdir)+'/'+str(row.CIBSR)+'/'+str(row.ID)+'/'+'MRS/MRSi-Amyg/')\n",
    "    dest = home + str(row.CIBSR)\n",
    "    files = glob.glob(str(path) + '*.tiff')\n",
    "    for x in files:\n",
    "        file = os.path.join(str(path), str(x))\n",
    "        if os.path.exists(str(file)):\n",
    "            if os.path.exists(dest):\n",
    "                copy(str(file), dest)\n",
    "            else:\n",
    "                os.makedirs(dest)\n",
    "                copy(str(file), dest)\n",
    "        else:\n",
    "            print('Path not found for {}'.format(str(row.CIBSR)))\n",
    "            print(files)\n",
    "        print(file)"
   ]
  },
  {
   "cell_type": "code",
   "execution_count": null,
   "metadata": {},
   "outputs": [],
   "source": []
  }
 ],
 "metadata": {
  "kernelspec": {
   "display_name": "Python 3",
   "language": "python",
   "name": "python3"
  },
  "language_info": {
   "codemirror_mode": {
    "name": "ipython",
    "version": 3
   },
   "file_extension": ".py",
   "mimetype": "text/x-python",
   "name": "python",
   "nbconvert_exporter": "python",
   "pygments_lexer": "ipython3",
   "version": "3.6.4"
  }
 },
 "nbformat": 4,
 "nbformat_minor": 2
}
