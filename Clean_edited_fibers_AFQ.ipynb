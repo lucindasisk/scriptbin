{
 "cells": [
  {
   "cell_type": "code",
   "execution_count": 80,
   "metadata": {},
   "outputs": [],
   "source": [
    "import pandas as pd\n",
    "from datetime import date\n",
    "today=str(date.today())\n",
    "pd.set_option('display.max_rows', 500)\n",
    "pd.set_option('display.max_columns', 500)"
   ]
  },
  {
   "cell_type": "code",
   "execution_count": 81,
   "metadata": {},
   "outputs": [],
   "source": [
    "#Read in subject IDs\n",
    "subs = pd.read_csv('DCN_subids.csv', header=0)"
   ]
  },
  {
   "cell_type": "code",
   "execution_count": 82,
   "metadata": {},
   "outputs": [],
   "source": [
    "#set variables for l/r tracts\n",
    "tp = 'Tmid'\n",
    "tract = 'UF'\n",
    "hem = 'L'\n",
    "\n",
    "#Read in CSV\n",
    "tdf = pd.read_csv('{}_edited/{}_{}_{}.csv'.format(tp, tp, hem, tract), header=None)\n",
    "tdf.rename(columns={0:'ID', 1:'ROI', 2:'Metric'}, inplace=True)\n",
    "tdf['{}.{}.{}.mean'.format(tp, hem, tract)] = tdf.mean(axis=1)\n",
    "keep = tdf[['ID', 'Metric', '{}.{}.{}.mean'.format(tp, hem, tract)]]\n",
    "final = keep.pivot(index='ID', columns='Metric', values ='{}.{}.{}.mean'.format(tp, hem, tract))\n",
    "final.rename(columns={'ad':'{}.{}.AD.{}.mean'.format(hem,tract,tp),\n",
    "                     'fa':'{}.{}.FA.{}.mean'.format(hem,tract,tp),\n",
    "                     'md':'{}.{}.MD.{}.mean'.format(hem,tract,tp),\n",
    "                     'rd':'{}.{}.RD.{}.mean'.format(hem,tract,tp)},\n",
    "            inplace=True)\n",
    "final.to_csv('{}.{}.{}_Means.csv'.format(tp, hem, tract))\n"
   ]
  },
  {
   "cell_type": "code",
   "execution_count": 83,
   "metadata": {},
   "outputs": [],
   "source": [
    "tp = 'Tmid'\n",
    "tract = 'CCminor'\n",
    "\n",
    "#Read in CSV\n",
    "tdf = pd.read_csv('{}_edited/{}_{}.csv'.format(tp, tp, tract), header=None)\n",
    "tdf.rename(columns={0:'ID', 1:'ROI', 2:'Metric'}, inplace=True)\n",
    "tdf['{}.{}.mean'.format(tp, tract)] = tdf.mean(axis=1)\n",
    "keep = tdf[['ID', 'Metric', '{}.{}.mean'.format(tp, tract)]]\n",
    "final = keep.pivot(index='ID', columns='Metric', values ='{}.{}.mean'.format(tp, tract))\n",
    "final.rename(columns={'ad':'{}.AD.{}.mean'.format(tract,tp),\n",
    "                     'fa':'{}.FA.{}.mean'.format(tract,tp),\n",
    "                     'md':'{}.MD.{}.mean'.format(tract,tp),\n",
    "                     'rd':'{}.RD.{}.mean'.format(tract,tp)},\n",
    "            inplace=True)\n",
    "final.to_csv('{}.{}_Means.csv'.format(tp, tract))\n"
   ]
  },
  {
   "cell_type": "code",
   "execution_count": 84,
   "metadata": {},
   "outputs": [
    {
     "data": {
      "text/plain": [
       "['T2.L.IFOF_Means.csv',\n",
       " 'T2.L.UF_Means.csv',\n",
       " 'Tmid.L.IFOF_Means.csv',\n",
       " 'T2.R.UF_Means.csv',\n",
       " 'T1.L.UF_Means.csv',\n",
       " 'T2.R.CGC_Means.csv',\n",
       " 'T1.R.IFOF_Means.csv',\n",
       " 'T1.L.CGC_Means.csv',\n",
       " 'T1.R.UF_Means.csv',\n",
       " 'T2.R.IFOF_Means.csv',\n",
       " 'Tmid.L.UF_Means.csv',\n",
       " 'Tmid.R.IFOF_Means.csv',\n",
       " 'T2.L.CGC_Means.csv',\n",
       " 'T1.L.IFOF_Means.csv',\n",
       " 'Tmid.R.CGC_Means.csv']"
      ]
     },
     "execution_count": 84,
     "metadata": {},
     "output_type": "execute_result"
    }
   ],
   "source": [
    "### RUN AFTER ALL TRACTS RUN THROUGH ABOVE\n",
    "\n",
    "import glob as glob\n",
    "tracts = glob.glob('*.*.*_Means.csv')\n",
    "tracts"
   ]
  },
  {
   "cell_type": "code",
   "execution_count": 85,
   "metadata": {},
   "outputs": [],
   "source": [
    "#Import data\n",
    "\n",
    "#T1 dfs\n",
    "t1_l_cgc = pd.read_csv('T1.L.CGC_Means.csv', header=0)\n",
    "t1_l_ifof = pd.read_csv('T1.L.IFOF_Means.csv', header=0)\n",
    "t1_l_uf = pd.read_csv('T1.L.UF_Means.csv', header=0)\n",
    "t1_r_uf = pd.read_csv('T1.R.UF_Means.csv', header=0)\n",
    "t1_r_ifof = pd.read_csv('T1.R.IFOF_Means.csv', header=0)\n",
    "\n",
    "#Tmid dfs\n",
    "tmid_l_ifof = pd.read_csv('Tmid.L.IFOF_Means.csv', header=0)\n",
    "tmid_l_uf = pd.read_csv('Tmid.L.UF_Means.csv', header=0)\n",
    "tmid_r_ifof = pd.read_csv('Tmid.R.IFOF_Means.csv', header=0)\n",
    "tmid_r_cgc = pd.read_csv('Tmid.R.CGC_Means.csv', header=0)\n",
    "\n",
    "#T2 dfs\n",
    "t2_l_cgc = pd.read_csv('T2.L.CGC_Means.csv', header=0)\n",
    "t2_l_ifof = pd.read_csv('T2.L.IFOF_Means.csv', header=0)\n",
    "t2_l_uf = pd.read_csv('T2.L.UF_Means.csv', header=0)\n",
    "t2_r_cgc = pd.read_csv('T2.R.CGC_Means.csv', header=0)\n",
    "t2_r_ifof = pd.read_csv('T2.R.IFOF_Means.csv', header=0)\n",
    "t2_r_uf = pd.read_csv('T2.R.UF_Means.csv', header=0)\n",
    "\n",
    "#Pairwise merge\n",
    "m1=pd.merge(t1_l_cgc, t1_l_ifof, on='ID', how='outer')\n",
    "m2=pd.merge(m1, t1_l_uf, on='ID', how='outer')\n",
    "m3=pd.merge(m2, t1_r_uf, on='ID', how='outer')\n",
    "m4=pd.merge(m3, t1_r_ifof, on='ID', how='outer')\n",
    "m5=pd.merge(m4, tmid_l_ifof, on='ID', how='outer')\n",
    "m6=pd.merge(m5, tmid_l_uf, on='ID', how='outer')\n",
    "m7=pd.merge(m6, tmid_r_ifof,on='ID', how='outer')\n",
    "m8=pd.merge(m7, tmid_r_cgc, on='ID', how='outer')\n",
    "m9=pd.merge(m8, t2_l_cgc, on='ID', how='outer')\n",
    "m10=pd.merge(m9, t2_l_ifof,on='ID', how='outer')\n",
    "m11=pd.merge(m10, t2_l_uf,on='ID', how='outer')\n",
    "m12=pd.merge(m11,t2_r_cgc, on='ID', how='outer')\n",
    "m13=pd.merge(m12, t2_r_ifof,on='ID', how='outer')\n",
    "m14=pd.merge(m13, t2_r_uf,on='ID', how='outer')\n",
    "\n",
    "# Concatenate all data into one DataFrame\n",
    "all_data = m14\n",
    "all_data['ID']=all_data['ID'].str.replace('x','').str.replace('els','')\n",
    "all_data.to_csv('all_tp_tract_edited_fibers_raw_DONTUSE.csv', index=False)"
   ]
  },
  {
   "cell_type": "code",
   "execution_count": null,
   "metadata": {},
   "outputs": [],
   "source": []
  }
 ],
 "metadata": {
  "kernelspec": {
   "display_name": "Python 3",
   "language": "python",
   "name": "python3"
  },
  "language_info": {
   "codemirror_mode": {
    "name": "ipython",
    "version": 3
   },
   "file_extension": ".py",
   "mimetype": "text/x-python",
   "name": "python",
   "nbconvert_exporter": "python",
   "pygments_lexer": "ipython3",
   "version": "3.6.3"
  }
 },
 "nbformat": 4,
 "nbformat_minor": 2
}
