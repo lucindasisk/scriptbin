{
 "cells": [
  {
   "cell_type": "code",
   "execution_count": 7,
   "metadata": {
    "collapsed": true
   },
   "outputs": [],
   "source": [
    "import os \n",
    "import pandas as pd\n",
    "from scipy import stats\n",
    "import datetime\n",
    "pd.set_option('display.max_columns', 500)  "
   ]
  },
  {
   "cell_type": "code",
   "execution_count": 10,
   "metadata": {
    "collapsed": true
   },
   "outputs": [],
   "source": [
    "pd.set_option('display.max_rows', 500)\n",
    "demoT1K01 = pd.read_csv(\"/Users/myelin/Dropbox/Projects/mrTrix_elsDTI/Josiah/Data_Request/K01_ELST1_Demographics_Combined.csv\", header=0)\n",
    "ids = pd.read_csv(\"/Users/myelin/Dropbox/Projects/mrTrix_elsDTI/Josiah/Data_Request/Josiah_Subs_IDs_n91.csv\", header=0)\n",
    "ide = pd.read_csv(\"/Users/myelin/Dropbox/Projects/mrTrix_elsDTI/Josiah/Data_Request/Josiah_Subs_IDs_n91_ID.csv\", header=0).reset_index()\n",
    "combined = pd.merge(ids,demoT1K01)\n",
    "data1 = combined[['ELS_ID', 'ID', 'T1_Child_Sex_R', 'T1S1_Age','T1S2_Age','TannerAvg','T1_KSADS_Child_Race']] #JL wants race or ethnicity? K01 race/ethnicity MIA\n",
    "time = pd.read_csv(\"/Users/myelin/Dropbox/Projects/mrTrix_elsDTI/Josiah/Data_Request/time_intervals.csv\", header=0).reset_index()\n",
    "ids_w_t2 = pd.merge(ide, time, on='ID')\n",
    "\n",
    "writefile = '/Users/myelin/Dropbox/Projects/mrTrix_elsDTI/Josiah/Data_Request/JL_DemographicsData_{date:%Y_%m_%d-%H%M%S}.csv'.format(date=datetime.datetime.now())\n",
    "data1.to_csv(writefile)"
   ]
  },
  {
   "cell_type": "code",
   "execution_count": 53,
   "metadata": {
    "collapsed": true
   },
   "outputs": [],
   "source": [
    "#Demographics on data1\n",
    "girls = data1[data1.T1_Child_Sex_R == 1]\n",
    "f_tan_avg = girls['TannerAvg'].mean()\n",
    "f_tan_std = girls['TannerAvg'].std()\n",
    "f_age_avg = pd.to_numeric(girls['T1S1_Age']).mean()\n",
    "f_age_std = pd.to_numeric(girls['T1S1_Age']).std()\n"
   ]
  },
  {
   "cell_type": "code",
   "execution_count": 54,
   "metadata": {
    "collapsed": true
   },
   "outputs": [],
   "source": [
    "#Demographics on Boys\n",
    "boys = data1[data1.T1_Child_Sex_R == 0]\n",
    "m_tan_avg = boys['TannerAvg'].mean()\n",
    "m_tan_std = boys['TannerAvg'].std()\n",
    "m_age_avg = pd.to_numeric(boys['T1S1_Age']).mean()\n",
    "m_age_std = pd.to_numeric(boys['T1S1_Age']).std()\n",
    "numtan35 = pd.to_numeric(boys['TannerAvg']) > 3"
   ]
  },
  {
   "cell_type": "code",
   "execution_count": 55,
   "metadata": {
    "collapsed": true
   },
   "outputs": [],
   "source": [
    "#Overall Demographics\n",
    "tan_avg = data1['TannerAvg'].mean()\n",
    "tan_std = data1['TannerAvg'].std()\n",
    "tan_range1 = data1['TannerAvg'].min()\n",
    "tan_range2 = data1['TannerAvg'].max()\n",
    "age_avg = pd.to_numeric(data1['T1S1_Age']).mean()\n",
    "age_std = pd.to_numeric(data1['T1S1_Age']).std()\n",
    "min_age = pd.to_numeric(data1['T1S1_Age']).min()\n",
    "max_age = pd.to_numeric(data1['T1S1_Age']).max()\n",
    "num_data = len(data1)\n",
    "num_boys = len(data1[data1.T1_Child_Sex_R == 0])\n",
    "num_girls = len(data1[data1.T1_Child_Sex_R == 1])\n",
    "\n",
    "totrace = len(data1)#race1 + race2 + race3 + race4 + race5 + race6 + race7 + didntget_race + unknown_race"
   ]
  },
  {
   "cell_type": "code",
   "execution_count": 56,
   "metadata": {
    "collapsed": true
   },
   "outputs": [],
   "source": [
    "#Race & Ethnicity Calculations Overall and by Sex\n",
    "race1 = (len(data1[data1.T1_KSADS_Child_Race == 1])/totrace)*100\n",
    "race2 = (len(data1[data1.T1_KSADS_Child_Race == 2])/totrace)*100\n",
    "race3 = len(data1[data1.T1_KSADS_Child_Race == 3])/totrace*100\n",
    "race4 = len(data1[data1.T1_KSADS_Child_Race == 4])/totrace*100\n",
    "race5 = len(data1[data1.T1_KSADS_Child_Race == 5])/totrace*100\n",
    "race6 = len(data1[data1.T1_KSADS_Child_Race == 6])/totrace*100\n",
    "race7 = len(data1[data1.T1_KSADS_Child_Race == 7])/totrace*100\n",
    "didntget_race = len(data1[data1.T1_KSADS_Child_Race == 888])/totrace*100\n",
    "unknown_race = len(data1[data1.T1_KSADS_Child_Race == 999])/totrace*100"
   ]
  },
  {
   "cell_type": "code",
   "execution_count": 57,
   "metadata": {
    "collapsed": true
   },
   "outputs": [],
   "source": [
    "totfrace = len(girls)\n",
    "frace1 = len(girls[girls.T1_KSADS_Child_Race == 1])/totfrace*100\n",
    "frace2 = len(girls[girls.T1_KSADS_Child_Race == 2])/totfrace*100\n",
    "frace3 = len(girls[girls.T1_KSADS_Child_Race == 3])/totfrace*100\n",
    "frace4 = len(girls[girls.T1_KSADS_Child_Race == 4])/totfrace*100\n",
    "frace5 = len(girls[girls.T1_KSADS_Child_Race == 5])/totfrace*100\n",
    "frace6 = len(girls[girls.T1_KSADS_Child_Race == 6])/totfrace*100\n",
    "frace7 = len(girls[girls.T1_KSADS_Child_Race == 7])/totfrace*100\n",
    "fdidntget_race = len(girls[girls.T1_KSADS_Child_Race == 888])/totfrace*100\n",
    "funknown_race = len(girls[girls.T1_KSADS_Child_Race == 999])/totfrace*100\n"
   ]
  },
  {
   "cell_type": "code",
   "execution_count": 58,
   "metadata": {
    "collapsed": true
   },
   "outputs": [],
   "source": [
    "totmrace = len(boys)\n",
    "mrace1 = len(boys[boys.T1_KSADS_Child_Race == 1])/totmrace*100\n",
    "mrace2 = len(boys[boys.T1_KSADS_Child_Race == 2])/totmrace*100\n",
    "mrace3 = len(boys[boys.T1_KSADS_Child_Race == 3])/totmrace*100\n",
    "mrace4 = len(boys[boys.T1_KSADS_Child_Race == 4])/totmrace*100\n",
    "mrace5 = len(boys[boys.T1_KSADS_Child_Race == 5])/totmrace*100\n",
    "mrace6 = len(boys[boys.T1_KSADS_Child_Race == 6])/totmrace*100\n",
    "mrace7 = len(boys[boys.T1_KSADS_Child_Race == 7])/totmrace*100\n",
    "mdidntget_race = len(boys[boys.T1_KSADS_Child_Race == 888])/totmrace*100\n",
    "munknown_race = len(boys[boys.T1_KSADS_Child_Race == 999])/totmrace*100\n"
   ]
  },
  {
   "cell_type": "code",
   "execution_count": 59,
   "metadata": {
    "collapsed": true
   },
   "outputs": [],
   "source": [
    "#T1 - T2 duration info\n",
    "dur_mean = ids_w_t2['Months'].mean()\n",
    "dur_std = ids_w_t2['Months'].std()\n",
    "num_dur = len(ids_w_t2.dropna())\n",
    "shortest_dur = ids_w_t2['Months'].min()\n",
    "longest_dur = ids_w_t2['Months'].max()"
   ]
  },
  {
   "cell_type": "code",
   "execution_count": 60,
   "metadata": {},
   "outputs": [
    {
     "name": "stdout",
     "output_type": "stream",
     "text": [
      "Mean age: 11.384464953054943 ± 1.0336946987435827\n",
      "*******\n",
      "Youngest participant at T1S1: 9.106091718. Oldest participant at T1S1: 13.60711841\n",
      "*******\n",
      "Mean tanner stage overall: 1.956043956043956 ± 0.6567950451851262\n",
      "*******\n",
      "Lowest Tanner Stage: 1.0\n",
      "*******\n",
      "Highest Tanner Stage: 3.0\n",
      "*******\n",
      "Number of Girls: 59 Number of Boys: 32 Total: 91\n",
      "*******\n",
      "White: 50.54945054945055 African American: 9.89010989010989 Hispanic: 5.4945054945054945 Asian: 16.483516483516482 Biracial: 9.89010989010989 Other: 6.593406593406594 Not Collected: 1.098901098901099 Total Participants: 91 Total IDS: 91\n",
      "*******\n",
      "Shortest duration between T1 and T2: 16.95277207 months\n",
      "*******\n",
      "Longest duration between T1 and T2: 39.55646817 months\n",
      "*******\n",
      "Average duration between T1 and T2: 23.407320492063494 ± 4.958032800983174 months\n",
      "*******\n",
      "63 IDs out of 91 had T2 follow ups\n",
      "*******\n"
     ]
    }
   ],
   "source": [
    "#Print out Data\n",
    "\n",
    "#***********************************************\n",
    "# print(\"Mean age of girls: {} plus or minus {}\".format(f_age_avg, f_age_std))\n",
    "# print('*******')\n",
    "# print(\"Mean tanner stage of girls: {} plus or minus {}\".format(f_tan_avg, f_tan_std))\n",
    "# print('*******')\n",
    "# print(\"Mean age of boys: {} plus or minus {}\".format(m_age_avg, m_age_std))\n",
    "# print('*******')\n",
    "# print(\"Mean tanner stage of boys: {} plus or minus {}\".format(m_tan_avg, m_tan_std))\n",
    "# print('*******')\n",
    "# print(\"Mean tanner stage of boys: {} plus or minus {}\".format(m_tan_avg, m_tan_std))\n",
    "# print('*******')\n",
    "print(\"Mean age: {} ± {}\".format(age_avg, age_std))\n",
    "print('*******')\n",
    "print(\"Youngest participant at T1S1: {}. Oldest participant at T1S1: {}\".format(min_age, max_age))\n",
    "print('*******')\n",
    "print(\"Mean tanner stage overall: {} ± {}\".format(tan_avg, tan_std))\n",
    "print('*******')\n",
    "print(\"Lowest Tanner Stage: {}\".format(tan_range1))\n",
    "print('*******')\n",
    "print(\"Highest Tanner Stage: {}\".format(tan_range2))\n",
    "print('*******')\n",
    "print(\"Number of Girls: {} Number of Boys: {} Total: {}\".format(num_girls, num_boys, num_data))\n",
    "print('*******')\n",
    "totnot = race7 + didntget_race + unknown_race\n",
    "ftotnot = frace7 + fdidntget_race + funknown_race\n",
    "mtotnot = mrace7 + mdidntget_race + munknown_race\n",
    "print(\"White: {} African American: {} Hispanic: {} Asian: {} Biracial: {} Other: {} Not Collected: {} Total Participants: {} Total IDS: {}\".format(race1, race2, race3, race4, race5, race6, totnot, totrace, len(ids)))\n",
    "print('*******')\n",
    "# print(\"GIRLS | White: {} African American: {} Hispanic: {} Asian: {} Biracial: {} Other: {} Not Collected: {} Total Girls: {} Total IDS: {}\".format(frace1, frace2, frace3, frace4, frace5, frace6, ftotnot, totfrace, len(ids)))\n",
    "# print('*******')\n",
    "# fem = frace1 + frace2 + frace3 + frace4 + frace5 + frace6 + ftotnot \n",
    "# print(\"BOYS | White: {} African American: {} Hispanic: {} Asian: {} Biracial: {} Other: {} Not Collected: {} Total Boys: {} Total IDS: {}\".format(mrace1, mrace2, mrace3, mrace4, mrace5, mrace6, mtotnot, totmrace, len(ids)))\n",
    "\n",
    "print(\"Shortest duration between T1 and T2: {} months\".format(shortest_dur)) \n",
    "print('*******')\n",
    "print(\"Longest duration between T1 and T2: {} months\".format(longest_dur))\n",
    "print('*******')\n",
    "print('Average duration between T1 and T2: {} ± {} months'.format(dur_mean, dur_std))\n",
    "print('*******')\n",
    "print('{} IDs out of {} had T2 follow ups'.format(num_dur, len(ids)))\n",
    "print('*******')\n",
    "\n"
   ]
  },
  {
   "cell_type": "code",
   "execution_count": null,
   "metadata": {
    "collapsed": true
   },
   "outputs": [],
   "source": [
    " "
   ]
  }
 ],
 "metadata": {
  "kernelspec": {
   "display_name": "Python 3",
   "language": "python",
   "name": "python3"
  },
  "language_info": {
   "codemirror_mode": {
    "name": "ipython",
    "version": 3
   },
   "file_extension": ".py",
   "mimetype": "text/x-python",
   "name": "python",
   "nbconvert_exporter": "python",
   "pygments_lexer": "ipython3",
   "version": "3.6.3"
  }
 },
 "nbformat": 4,
 "nbformat_minor": 2
}
