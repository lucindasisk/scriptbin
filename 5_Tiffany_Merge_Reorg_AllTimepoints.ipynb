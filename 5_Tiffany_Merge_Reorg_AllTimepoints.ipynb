{
 "cells": [
  {
   "cell_type": "code",
   "execution_count": 1,
   "metadata": {},
   "outputs": [],
   "source": [
    "import pandas as pd\n",
    "from datetime import date\n",
    "from os import makedirs\n",
    "today=str(date.today())\n",
    "pd.set_option('display.max_rows', 500)\n",
    "pd.set_option('display.max_columns', 500)"
   ]
  },
  {
   "cell_type": "code",
   "execution_count": 2,
   "metadata": {},
   "outputs": [],
   "source": [
    "home='/Volumes/iang/ELS_data/ELS_DTI_Analysis/Results'"
   ]
  },
  {
   "cell_type": "code",
   "execution_count": 6,
   "metadata": {},
   "outputs": [],
   "source": [
    "t1 = pd.read_csv(home+'/T1/TH_DTI_DataRequest_ELS_T1_TK1_2019-05-06_EditedFibers.csv', header=0)\n",
    "t1['ID'] = t1['ID'].astype(str)\n",
    "\n",
    "t2=pd.read_csv(home+'/T2/TH_DTI_DataRequest_ELS_T2_2019-05-06_EditedFibers.csv', header=0)\n",
    "t2['ID'] = t2['ID'].astype(str)\n",
    "\n",
    "t3=pd.read_csv(home +'/T3/TH_DTI_DataRequest_ELS_T3_2019-05-06_EditedFibers.csv', header=0)\n",
    "t3['ID'] = t3['ID'].astype(str)\n",
    "\n",
    "tmid=pd.read_csv(home +'/Tmid/TH_DTI_DataRequest_ELS_Tmid_2019-05-06_EditedFibers.csv', header=0)\n",
    "tmid['ID'] = tmid['ID'].astype(str)\n",
    "\n",
    "tk3=pd.read_csv(home +'/TK3/TH_DTI_DataRequest_ELS_TK3_2019-05-04.csv', header=0)\n",
    "tk3['ID'] = tk3['ID'].astype(str)"
   ]
  },
  {
   "cell_type": "code",
   "execution_count": 7,
   "metadata": {},
   "outputs": [],
   "source": [
    "m1 = pd.merge(t1,tmid, on='ID', how='outer')\n",
    "m2 = pd.merge(m1,t2, on='ID', how='outer')\n",
    "m3 = pd.merge(m2,t3, on='ID', how='outer')\n",
    "m4 = pd.merge(m3,tk3, on='ID', how='outer')\n",
    "m4.to_csv(home+'/TH_DataRequest_ALLTIMEPOINTS_{}.csv'.format(today), index=False)"
   ]
  },
  {
   "cell_type": "code",
   "execution_count": 24,
   "metadata": {},
   "outputs": [],
   "source": [
    "##### Random Data Requests by Tiffany\n",
    "\n",
    "f1 = pd.read_csv(home +'/dcn_final_subjlist.csv', header=0)\n",
    "f1['ID'] = f1['ID'].astype(str)\n",
    "f2 = pd.read_csv(home +'/T1/AFQ_Rerun_T1.csv', header=0)\n",
    "f2['ID'] = f2['ID'].astype(str)\n",
    "f3 = pd.read_csv(home +'/Tmid/AFQ_Rerun_Tmid.csv', header=0)\n",
    "f3['ID'] = f3['ID'].astype(str)\n",
    "f4 = pd.read_csv(home +'/TK1/AFQ_Rerun_TK1.csv', header=0)\n",
    "f4['ID'] = f4['ID'].astype(str)\n",
    "f5 = pd.read_csv(home +'/T2/AFQ_Rerun_T2.csv', header=0)\n",
    "f5['ID'] = f5['ID'].astype(str)\n",
    "f6 = pd.read_csv(home +'/TK3/AFQ_Rerun_TK3.csv', header=0)\n",
    "f6['ID'] = f6['ID'].astype(str)\n",
    "\n",
    "m1=pd.merge(f2, f3, on='ID', how='outer')\n",
    "m2=pd.merge(m1, f4, on='ID', how='outer')\n",
    "m3=pd.merge(m2, f5, on='ID', how='outer')\n",
    "m4=pd.merge(m3, f6, on='ID', how='outer')\n",
    "\n",
    "final = pd.merge(f1, m4, on='ID', how='left')\n",
    "final.to_csv(home+'/dcn_final_subjlist_RerunInfo.csv',index=False)"
   ]
  },
  {
   "cell_type": "code",
   "execution_count": null,
   "metadata": {},
   "outputs": [],
   "source": []
  }
 ],
 "metadata": {
  "kernelspec": {
   "display_name": "Python 3",
   "language": "python",
   "name": "python3"
  },
  "language_info": {
   "codemirror_mode": {
    "name": "ipython",
    "version": 3
   },
   "file_extension": ".py",
   "mimetype": "text/x-python",
   "name": "python",
   "nbconvert_exporter": "python",
   "pygments_lexer": "ipython3",
   "version": "3.6.4"
  },
  "toc": {
   "base_numbering": 1,
   "nav_menu": {},
   "number_sections": true,
   "sideBar": true,
   "skip_h1_title": false,
   "title_cell": "Table of Contents",
   "title_sidebar": "Contents",
   "toc_cell": false,
   "toc_position": {},
   "toc_section_display": true,
   "toc_window_display": false
  }
 },
 "nbformat": 4,
 "nbformat_minor": 2
}
