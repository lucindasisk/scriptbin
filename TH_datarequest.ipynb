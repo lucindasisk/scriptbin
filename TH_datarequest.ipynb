{
 "cells": [
  {
   "cell_type": "code",
   "execution_count": 11,
   "metadata": {},
   "outputs": [],
   "source": [
    "import pandas as pd\n",
    "from os.path import join\n",
    "\n",
    "tp='T3' #input('Please enter timepoint:    ')\n",
    "\n",
    "home='/Volumes/groups/ELS_data/ELS_DTI_Analysis/ELS_{}/matproc/AFQ_results'.format(tp)\n",
    "dest = '/Users/myelin/Desktop/TH_Data_Request'\n",
    "\n",
    "tract='Callosum_Forceps_Major'"
   ]
  },
  {
   "cell_type": "code",
   "execution_count": 12,
   "metadata": {},
   "outputs": [],
   "source": [
    "#####Callosum Forceps\n",
    "\n",
    "# metric='FA'\n",
    "# csv1 = pd.read_csv(join(home, 'AFQ_Cleaned_4.30.19/ELS_{}_Cleaned_{}_{}.csv'.format(tp,tract,metric)))\n",
    "# csv1['{}.{}.{}.mean'.format(tract,metric,tp)] = csv1.iloc[:,3:103].mean(axis=1)\n",
    "# l_fa = csv1[['subject ID', '{}.{}.{}.mean'.format(tract,metric,tp)]]\n",
    "\n",
    "# metric3='AD'\n",
    "# csv2 = pd.read_csv(join(home, 'AFQ_Cleaned_4.30.19/ELS_{}_Cleaned_{}_{}.csv'.format(tp,tract,metric3)))\n",
    "# csv2['{}.{}.{}.mean'.format(tract,metric3,tp)] = csv2.iloc[:,3:103].mean(axis=1)\n",
    "# l_ad = csv2[['subject ID', '{}.{}.{}.mean'.format(tract,metric3,tp)]]\n",
    "\n",
    "# metric1='MD'\n",
    "# csv3 = pd.read_csv(join(home, 'AFQ_Cleaned_4.30.19/ELS_{}_Cleaned_{}_{}.csv'.format(tp,tract,metric1)))\n",
    "# csv3['{}.{}.{}.mean'.format(tract,metric1,tp)] = csv3.iloc[:,3:103].mean(axis=1)\n",
    "# l_md = csv3[['subject ID', '{}.{}.{}.mean'.format(tract,metric1,tp)]]\n",
    "\n",
    "# metric2='RD'\n",
    "# csv4 = pd.read_csv(join(home, 'AFQ_Cleaned_4.30.19/ELS_{}_Cleaned_{}_{}.csv'.format(tp,tract,metric2)))\n",
    "# csv4['{}.{}.{}.mean'.format(tract,metric2,tp)] = csv4.iloc[:,3:103].mean(axis=1)\n",
    "# l_rd = csv4[['subject ID', '{}.{}.{}.mean'.format(tract,metric2,tp)]]\n",
    "\n",
    "# m1 = pd.merge(l_fa, l_ad, on='subject ID', how='outer')\n",
    "# m2 = pd.merge(m1, l_md, on='subject ID', how='outer')\n",
    "# m3 = pd.merge(m2, l_rd, on='subject ID', how='outer')\n",
    "\n",
    "# m3.to_csv(dest+'/{}_allMetrics_4.20.19.csv'.format(tract))"
   ]
  },
  {
   "cell_type": "code",
   "execution_count": 3,
   "metadata": {},
   "outputs": [],
   "source": [
    "hemi='Left'\n",
    "metric='FA'\n",
    "csv = pd.read_csv(join(home, 'AFQ_Cleaned_4.30.19/ELS_{}_Cleaned_{}_{}_{}.csv'.format(tp,hemi,tract,metric)))\n",
    "csv['{}.{}.{}.{}.mean'.format(hemi,tract,metric,tp)] = csv.iloc[:,3:103].mean(axis=1)\n",
    "l_unc_fa = csv[['subject ID', '{}.{}.{}.{}.mean'.format(hemi,tract,metric,tp)]]"
   ]
  },
  {
   "cell_type": "code",
   "execution_count": 4,
   "metadata": {},
   "outputs": [],
   "source": [
    "hemi='Left'\n",
    "metric='AD'\n",
    "csv = pd.read_csv(join(home, 'AFQ_Cleaned_4.30.19/ELS_{}_Cleaned_{}_{}_{}.csv'.format(tp,hemi,tract,metric)))\n",
    "csv['{}.{}.{}.{}.mean'.format(hemi,tract,metric,tp)] = csv.iloc[:,3:103].mean(axis=1)\n",
    "l_unc_ad = csv[['subject ID', '{}.{}.{}.{}.mean'.format(hemi,tract,metric,tp)]]"
   ]
  },
  {
   "cell_type": "code",
   "execution_count": 5,
   "metadata": {},
   "outputs": [],
   "source": [
    "hemi='Left'\n",
    "metric='MD'\n",
    "csv = pd.read_csv(join(home, 'AFQ_Cleaned_4.30.19/ELS_{}_Cleaned_{}_{}_{}.csv'.format(tp,hemi,tract,metric)))\n",
    "csv['{}.{}.{}.{}.mean'.format(hemi,tract,metric,tp)] = csv.iloc[:,3:103].mean(axis=1)\n",
    "l_unc_md = csv[['subject ID', '{}.{}.{}.{}.mean'.format(hemi,tract,metric,tp)]]"
   ]
  },
  {
   "cell_type": "code",
   "execution_count": 6,
   "metadata": {},
   "outputs": [],
   "source": [
    "hemi='Left'\n",
    "metric='RD'\n",
    "csv = pd.read_csv(join(home, 'AFQ_Cleaned_4.30.19/ELS_{}_Cleaned_{}_{}_{}.csv'.format(tp,hemi,tract,metric)))\n",
    "csv['{}.{}.{}.{}.mean'.format(hemi,tract,metric,tp)] = csv.iloc[:,3:103].mean(axis=1)\n",
    "l_unc_rd = csv[['subject ID', '{}.{}.{}.{}.mean'.format(hemi,tract,metric,tp)]]"
   ]
  },
  {
   "cell_type": "code",
   "execution_count": 7,
   "metadata": {},
   "outputs": [],
   "source": [
    "hemi='Right'\n",
    "metric='FA'\n",
    "csv = pd.read_csv(join(home, 'AFQ_Cleaned_4.30.19/ELS_{}_Cleaned_{}_{}_{}.csv'.format(tp,hemi,tract,metric)))\n",
    "csv['{}.{}.{}.{}.mean'.format(hemi,tract,metric,tp)] = csv.iloc[:,3:103].mean(axis=1)\n",
    "r_unc_fa = csv[['subject ID', '{}.{}.{}.{}.mean'.format(hemi,tract,metric,tp)]]"
   ]
  },
  {
   "cell_type": "code",
   "execution_count": 8,
   "metadata": {},
   "outputs": [],
   "source": [
    "hemi='Right'\n",
    "metric='AD'\n",
    "csv = pd.read_csv(join(home, 'AFQ_Cleaned_4.30.19/ELS_{}_Cleaned_{}_{}_{}.csv'.format(tp,hemi,tract,metric)))\n",
    "csv['{}.{}.{}.{}.mean'.format(hemi,tract,metric,tp)] = csv.iloc[:,3:103].mean(axis=1)\n",
    "r_unc_ad = csv[['subject ID', '{}.{}.{}.{}.mean'.format(hemi,tract,metric,tp)]]"
   ]
  },
  {
   "cell_type": "code",
   "execution_count": 9,
   "metadata": {},
   "outputs": [],
   "source": [
    "hemi='Right'\n",
    "metric='MD'\n",
    "csv = pd.read_csv(join(home, 'AFQ_Cleaned_4.30.19/ELS_{}_Cleaned_{}_{}_{}.csv'.format(tp,hemi,tract,metric)))\n",
    "csv['{}.{}.{}.{}.mean'.format(hemi,tract,metric,tp)] = csv.iloc[:,3:103].mean(axis=1)\n",
    "r_unc_md = csv[['subject ID', '{}.{}.{}.{}.mean'.format(hemi,tract,metric,tp)]]"
   ]
  },
  {
   "cell_type": "code",
   "execution_count": 10,
   "metadata": {},
   "outputs": [],
   "source": [
    "hemi='Right'\n",
    "metric='RD'\n",
    "csv = pd.read_csv(join(home, 'AFQ_Cleaned_4.30.19/ELS_{}_Cleaned_{}_{}_{}.csv'.format(tp,hemi,tract,metric)))\n",
    "csv['{}.{}.{}.{}.mean'.format(hemi,tract,metric,tp)] = csv.iloc[:,3:103].mean(axis=1)\n",
    "r_unc_rd = csv[['subject ID', '{}.{}.{}.{}.mean'.format(hemi,tract,metric,tp)]]"
   ]
  },
  {
   "cell_type": "code",
   "execution_count": 11,
   "metadata": {},
   "outputs": [],
   "source": [
    "m1 = pd.merge(l_unc_fa, l_unc_ad, on='subject ID', how='outer')\n",
    "m2 = pd.merge(m1, l_unc_md, on='subject ID', how='outer')\n",
    "m3 = pd.merge(m2, l_unc_rd, on='subject ID', how='outer')\n",
    "m4 = pd.merge(m3, r_unc_fa, on='subject ID', how='outer')\n",
    "m5 = pd.merge(m4, r_unc_ad, on='subject ID', how='outer')\n",
    "m6 = pd.merge(m5, r_unc_md, on='subject ID', how='outer')\n",
    "m7 = pd.merge(m6, r_unc_rd, on='subject ID', how='outer')\n",
    "\n",
    "m7.to_csv(dest+'/{}_allMetrics_4.20.19.csv'.format(tract))"
   ]
  },
  {
   "cell_type": "code",
   "execution_count": 13,
   "metadata": {},
   "outputs": [],
   "source": [
    "age=pd.read_csv('/Users/myelin/Desktop/T2_Ages_Dates.csv',header=0,dtype=str)\n",
    "ifof = pd.read_csv(dest+'/IFOF_allMetrics_4.20.19.csv')\n",
    "ccmin=pd.read_csv(dest+'/Callosum_Forceps_Minor_allMetrics_4.20.19.csv')\n",
    "ccmaj=pd.read_csv(dest+'/Callosum_Forceps_Major_allMetrics_4.20.19.csv')\n",
    "cing = pd.read_csv(dest+'/Cingulum_Cingulate_allMetrics_4.20.19.csv')\n",
    "cst=pd.read_csv(dest+'/Corticospinal_allMetrics_4.20.19.csv')\n",
    "unc=pd.read_csv(dest+'/Uncinate_allMetrics_4.20.19.csv')\n",
    "\n",
    "ma=pd.merge(cing,ccmin, on='subject ID', how='outer')\n",
    "mb=pd.merge(ma, ccmaj, on='subject ID', how='outer')\n",
    "mc=pd.merge(mb, cst, on='subject ID', how='outer')\n",
    "md=pd.merge(mc, ifof, on='subject ID', how='outer')\n",
    "me=pd.merge(md, unc, on='subject ID', how='outer')\n",
    "mf=pd.merge(me, age, on='subject ID', how='left')\n",
    "\n",
    "mf.columns=mf.columns.str.replace('Callosum_Forceps_Minor','CC.Minor').str.replace('Callosum_Forceps_Major','CC.Major').str.replace('Left','L').str.replace('Right','R')\n",
    "mf.columns=mf.columns.str.replace('Cingulum_Cingulate', 'CGC').str.replace('Corticospinal', 'CST').str.replace('Uncinate', 'UF').str.replace('subject ID', 'ID').str.replace(' ', '.')\n",
    "mf.rename(columns={'Date.of.Scan':'Date.of.Scan.T2', 'Age.at.Scan':'Age.at.Scan.T2'}, inplace=True)\n",
    "final = mf[['ID','Date.of.Scan.T2','Age.at.Scan.T2','CC.Major.FA.T2.mean','CC.Minor.FA.T2.mean','CC.Major.AD.T2.mean','CC.Minor.AD.T2.mean',\n",
    "'CC.Major.MD.T2.mean','CC.Minor.MD.T2.mean','CC.Major.RD.T2.mean','CC.Minor.RD.T2.mean','L.CGC.FA.T2.mean','R.CGC.FA.T2.mean',\n",
    "'L.CGC.AD.T2.mean','R.CGC.AD.T2.mean','L.CGC.MD.T2.mean','R.CGC.MD.T2.mean','L.CGC.RD.T2.mean','R.CGC.RD.T2.mean','L.CST.FA.T2.mean',\n",
    "'R.CST.FA.T2.mean','L.CST.AD.T2.mean','R.CST.AD.T2.mean','L.CST.MD.T2.mean','R.CST.MD.T2.mean','L.CST.RD.T2.mean','R.CST.RD.T2.mean',\n",
    "'L.IFOF.FA.T2.mean','R.IFOF.FA.T2.mean','L.IFOF.AD.T2.mean','R.IFOF.AD.T2.mean','L.IFOF.MD.T2.mean','R.IFOF.MD.T2.mean','L.IFOF.RD.T2.mean',\n",
    "'R.IFOF.RD.T2.mean','L.UF.FA.T2.mean','R.UF.FA.T2.mean','L.UF.AD.T2.mean','R.UF.AD.T2.mean','L.UF.MD.T2.mean','R.UF.MD.T2.mean','L.UF.RD.T2.mean','R.UF.RD.T2.mean']]\n",
    "final.sort_values(by='ID').to_csv(dest +'/trialdoc.csv')"
   ]
  },
  {
   "cell_type": "code",
   "execution_count": 26,
   "metadata": {},
   "outputs": [
    {
     "data": {
      "text/plain": [
       "('R.IFOF.RD.T2.mean',\n",
       " 'L.UF.FA.T2.mean',\n",
       " 'R.UF.FA.T2.mean',\n",
       " 'L.UF.AD.T2.mean',\n",
       " 'R.UF.AD.T2.mean',\n",
       " 'L.UF.MD.T2.mean',\n",
       " 'R.UF.MD.T2.mean',\n",
       " 'L.UF.RD.T2.mean',\n",
       " 'R.UF.RD.T2.mean')"
      ]
     },
     "execution_count": 26,
     "metadata": {},
     "output_type": "execute_result"
    }
   ],
   "source": []
  },
  {
   "cell_type": "code",
   "execution_count": null,
   "metadata": {},
   "outputs": [],
   "source": []
  }
 ],
 "metadata": {
  "kernelspec": {
   "display_name": "Python 3",
   "language": "python",
   "name": "python3"
  },
  "language_info": {
   "codemirror_mode": {
    "name": "ipython",
    "version": 3
   },
   "file_extension": ".py",
   "mimetype": "text/x-python",
   "name": "python",
   "nbconvert_exporter": "python",
   "pygments_lexer": "ipython3",
   "version": "3.6.3"
  },
  "toc": {
   "base_numbering": 1,
   "nav_menu": {},
   "number_sections": true,
   "sideBar": true,
   "skip_h1_title": false,
   "title_cell": "Table of Contents",
   "title_sidebar": "Contents",
   "toc_cell": false,
   "toc_position": {},
   "toc_section_display": true,
   "toc_window_display": false
  }
 },
 "nbformat": 4,
 "nbformat_minor": 2
}
