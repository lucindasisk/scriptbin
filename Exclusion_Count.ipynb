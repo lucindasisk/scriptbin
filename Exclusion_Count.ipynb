{
 "cells": [
  {
   "cell_type": "code",
   "execution_count": 1,
   "metadata": {
    "collapsed": true
   },
   "outputs": [],
   "source": [
    "import pandas as pd\n",
    "import os"
   ]
  },
  {
   "cell_type": "code",
   "execution_count": 23,
   "metadata": {},
   "outputs": [],
   "source": [
    "tracker = pd.read_csv('ELS_RDoc_K01_Scan_Tracker_exclusion.csv')\n",
    "total_subs = len(tracker)\n",
    "\n",
    "#Find KidMid Usability\n",
    "t1_kidmid_us = len(tracker[(tracker.t1_kidmid_usability == 1)\n",
    "                           & (tracker.t1_dti_usability == 0)\n",
    "                           & (tracker.t1x_dti_usability == 0)])  \n",
    "                        \n",
    "t1x_kidmid_us = len(tracker[(tracker.t1x_kidmid_usability == 1)\n",
    "                           & (tracker.t1_dti_usability == 0)  \n",
    "                           & (tracker.t1x_dti_usability == 0)])\n",
    "\n",
    "tmidx_kidmid_us = len(tracker[(tracker.tmidx_kidmid_usability == 1)\n",
    "                              & (tracker.tmidx_dti_usability == 0)  \n",
    "                              & (tracker.tmid_dti_usability == 0)])\n",
    "\n",
    "tmid_kidmid_us = len(tracker[(tracker.tmid_kidmid_usability == 1)\n",
    "                             & (tracker.tmidx_dti_usability == 0)  \n",
    "                             & (tracker.tmid_dti_usability == 0)])\n",
    "\n",
    "kidmid_total = t1_kidmid_us + t1x_kidmid_us + tmidx_kidmid_us + tmid_kidmid_us\n",
    "\n",
    "#Find DTI Usability\n",
    "t1x_dti_us = len(tracker[(tracker.t1x_dti_usability == 1)\n",
    "                        & (tracker.t1_kidmid_usability == 0)  \n",
    "                        & (tracker.t1x_kidmid_usability == 0)])\n",
    "\n",
    "t1_dti_us = len(tracker[(tracker.t1_dti_usability == 1)\n",
    "                        & (tracker.t1x_kidmid_usability == 0)  \n",
    "                        & (tracker.t1_kidmid_usability == 0)])\n",
    "\n",
    "tmid_dti_us = len(tracker[(tracker.tmid_dti_usability == 1)\n",
    "                           & (tracker.tmid_kidmid_usability == 0)  \n",
    "                           & (tracker.tmidx_kidmid_usability == 0)])\n",
    "\n",
    "tmidx_dti_us = len(tracker[(tracker.tmidx_dti_usability == 1)\n",
    "                            & (tracker.tmid_kidmid_usability == 0)  \n",
    "                            & (tracker.tmidx_kidmid_usability == 0)])\n",
    "\n",
    "dti_total = t1x_dti_us + t1_dti_us + tmid_dti_us + tmidx_dti_us"
   ]
  },
  {
   "cell_type": "code",
   "execution_count": 28,
   "metadata": {},
   "outputs": [],
   "source": [
    "#Both usable\n",
    "t1a_us = len(tracker[(tracker.t1_kidmid_usability == 1) \n",
    "                    & (tracker.t1_dti_usability == 1)\n",
    "                    & (tracker.t1x_kidmid_usability == 0) \n",
    "                    & (tracker.t1x_dti_usability == 0) \n",
    "                    & (tracker.tmid_kidmid_usability == 0) \n",
    "                    & (tracker.tmid_dti_usability == 0)\n",
    "                    & (tracker.tmidx_kidmid_usability == 0) \n",
    "                    & (tracker.tmidx_dti_usability == 0)])\n",
    "\n",
    "t1b_us = len(tracker[(tracker.t1_kidmid_usability == 1) \n",
    "                    & (tracker.t1_dti_usability == 0)\n",
    "                    & (tracker.t1x_kidmid_usability == 0) \n",
    "                    & (tracker.t1x_dti_usability == 1) \n",
    "                    & (tracker.tmid_kidmid_usability == 0) \n",
    "                    & (tracker.tmid_dti_usability == 0)\n",
    "                    & (tracker.tmidx_kidmid_usability == 0) \n",
    "                    & (tracker.tmidx_dti_usability == 0)])\n",
    "t1_us = t1a_us + t1b_us\n",
    "\n",
    "t1xa_us = len(tracker[(tracker.t1x_kidmid_usability == 1) \n",
    "                     & (tracker.t1x_dti_usability == 1)\n",
    "                     & (tracker.t1_kidmid_usability == 0) \n",
    "                     & (tracker.t1_dti_usability == 0) \n",
    "                     & (tracker.tmid_kidmid_usability == 0) \n",
    "                     & (tracker.tmid_dti_usability == 0)\n",
    "                     & (tracker.tmidx_kidmid_usability == 0) \n",
    "                     & (tracker.tmidx_dti_usability == 0)])\n",
    "\n",
    "t1xb_us = len(tracker[(tracker.t1x_kidmid_usability == 1) \n",
    "                     & (tracker.t1x_dti_usability == 0)\n",
    "                     & (tracker.t1_kidmid_usability == 0) \n",
    "                     & (tracker.t1_dti_usability == 1) \n",
    "                     & (tracker.tmid_kidmid_usability == 0) \n",
    "                     & (tracker.tmid_dti_usability == 0)\n",
    "                     & (tracker.tmidx_kidmid_usability == 0) \n",
    "                     & (tracker.tmidx_dti_usability == 0)])\n",
    "t1x_us = t1xa_us + t1xb_us\n",
    "\n",
    "tmida_us = len(tracker[(tracker.tmid_kidmid_usability == 1) \n",
    "                      & (tracker.tmid_dti_usability == 1)\n",
    "                      & (tracker.t1_kidmid_usability == 0) \n",
    "                      & (tracker.t1_dti_usability == 0) \n",
    "                      & (tracker.t1x_kidmid_usability == 0) \n",
    "                      & (tracker.t1x_dti_usability == 0)\n",
    "                      & (tracker.tmidx_kidmid_usability == 0) \n",
    "                      & (tracker.tmidx_dti_usability == 0)])\n",
    "\n",
    "tmidb_us = len(tracker[(tracker.tmid_kidmid_usability == 1) \n",
    "                      & (tracker.tmid_dti_usability == 0)\n",
    "                      & (tracker.t1_kidmid_usability == 0) \n",
    "                      & (tracker.t1_dti_usability == 1) \n",
    "                      & (tracker.t1x_kidmid_usability == 0) \n",
    "                      & (tracker.t1x_dti_usability == 0)\n",
    "                      & (tracker.tmidx_kidmid_usability == 0) \n",
    "                      & (tracker.tmidx_dti_usability == 0)])\n",
    "tmid_us = tmida_us + tmidb_us\n",
    "\n",
    "tmidxa_us = len(tracker[(tracker.tmidx_kidmid_usability == 1) \n",
    "                       & (tracker.tmidx_dti_usability == 1)\n",
    "                       & (tracker.t1_kidmid_usability == 0) \n",
    "                       & (tracker.t1_dti_usability == 0) \n",
    "                       & (tracker.tmid_kidmid_usability == 0) \n",
    "                       & (tracker.tmid_dti_usability == 0)\n",
    "                       & (tracker.t1x_kidmid_usability == 0) \n",
    "                       & (tracker.t1x_dti_usability == 0)])\n",
    "\n",
    "tmidxb_us = len(tracker[(tracker.tmidx_kidmid_usability == 1) \n",
    "                       & (tracker.tmidx_dti_usability == 0)\n",
    "                       & (tracker.t1_kidmid_usability == 0) \n",
    "                       & (tracker.t1_dti_usability == 1) \n",
    "                       & (tracker.tmid_kidmid_usability == 0) \n",
    "                       & (tracker.tmid_dti_usability == 0)\n",
    "                       & (tracker.t1x_kidmid_usability == 0) \n",
    "                       & (tracker.t1x_dti_usability == 0)])\n",
    "tmidx_us = tmidxa_us + tmidxb_us\n",
    "\n",
    "tmid_total = tmid_us + tmidx_us\n",
    "t1_total = t1_us + t1x_us\n",
    "\n",
    "total_usable = tmid_total + t1_total\n",
    "\n",
    "subs_with_kidmid = kidmid_total + total_usable\n",
    "subs_with_dti = dti_total + total_usable"
   ]
  },
  {
   "cell_type": "code",
   "execution_count": 29,
   "metadata": {},
   "outputs": [
    {
     "name": "stdout",
     "output_type": "stream",
     "text": [
      "Out of 237 subs, 141 have kidmid data. 45 were excluded because DTI was not usable at T1, T1x, Tmid, or Tmidx. Total: 96\n",
      "*****\n",
      "Out of 237 subs, 113 have DTI data. 17 were excluded because kidmid was not usable at T1, T1x, Tmid, or Tmidx. Total: 96\n",
      "*****\n",
      "93 subs have both usable kidmid and usable dti at T1/T1x only\n",
      "*****\n",
      "3 subs have both usable kidmid and usable dti at Tmid/Tmidx only\n",
      "*****\n",
      "A total of 96 unique subs have both usable kidmid and usable dti\n"
     ]
    }
   ],
   "source": [
    "\n",
    "print('Out of {} subs, {} have kidmid data. {} were excluded because DTI was not usable at T1, T1x, Tmid, or Tmidx. Total: {}'.format(total_subs, subs_with_kidmid, kidmid_total, total_usable))\n",
    "print('*****')\n",
    "print('Out of {} subs, {} have DTI data. {} were excluded because kidmid was not usable at T1, T1x, Tmid, or Tmidx. Total: {}'.format(total_subs, subs_with_dti, dti_total, total_usable))\n",
    "print('*****')\n",
    "print('{} subs have both usable kidmid and usable dti at T1/T1x only'.format(t1_total))\n",
    "print('*****')\n",
    "print('{} subs have both usable kidmid and usable dti at Tmid/Tmidx only'.format(tmid_total))\n",
    "print('*****')\n",
    "print('A total of {} unique subs have both usable kidmid and usable dti'.format(total_usable))"
   ]
  },
  {
   "cell_type": "code",
   "execution_count": null,
   "metadata": {
    "collapsed": true
   },
   "outputs": [],
   "source": []
  },
  {
   "cell_type": "code",
   "execution_count": null,
   "metadata": {
    "collapsed": true
   },
   "outputs": [],
   "source": []
  }
 ],
 "metadata": {
  "kernelspec": {
   "display_name": "Python 3",
   "language": "python",
   "name": "python3"
  },
  "language_info": {
   "codemirror_mode": {
    "name": "ipython",
    "version": 3
   },
   "file_extension": ".py",
   "mimetype": "text/x-python",
   "name": "python",
   "nbconvert_exporter": "python",
   "pygments_lexer": "ipython3",
   "version": "3.6.3"
  }
 },
 "nbformat": 4,
 "nbformat_minor": 2
}
