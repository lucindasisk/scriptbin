{
 "cells": [
  {
   "cell_type": "code",
   "execution_count": 33,
   "metadata": {},
   "outputs": [],
   "source": [
    "import pandas as pd\n",
    "import datetime"
   ]
  },
  {
   "cell_type": "code",
   "execution_count": 34,
   "metadata": {},
   "outputs": [],
   "source": [
    "id26 = pd.read_csv('T1 SCIDS 2600-2700 Copy 1 Final - use for analysis.csv').astype(str)\n",
    "id27 = pd.read_csv('T1 SCIDS 2700-2800 Copy 1 - can use for analysis.csv').astype(str)\n",
    "id28 = pd.read_csv('T1 SCIDS 2800-2900 Copy 1 - can use for analysis.csv').astype(str)\n",
    "id29 = pd.read_csv('T1 SCIDS 2900-3000 Copy 1 - can use for analysis.csv').astype(str)\n",
    "id30 = pd.read_csv('T1 SCIDS 3000-3100 Copy 1.csv').astype(str)\n",
    "ids = pd.read_csv('MDD_subids.csv').astype(str)"
   ]
  },
  {
   "cell_type": "code",
   "execution_count": 41,
   "metadata": {},
   "outputs": [
    {
     "name": "stderr",
     "output_type": "stream",
     "text": [
      "/usr/local/anaconda3/lib/python3.6/site-packages/pandas/core/frame.py:3027: SettingWithCopyWarning: \n",
      "A value is trying to be set on a copy of a slice from a DataFrame\n",
      "\n",
      "See the caveats in the documentation: http://pandas.pydata.org/pandas-docs/stable/indexing.html#indexing-view-versus-copy\n",
      "  return super(DataFrame, self).rename(**kwargs)\n"
     ]
    }
   ],
   "source": [
    "frames = id26, id27, id28, id29, id30\n",
    "all_ids = pd.concat(frames, axis = 0, join = 'inner')#, 'ecl_mdd', 'etn_mdd', 'edh_mdd'])\n",
    "mdd_ids_select = mdd_ids[['grantid', 's1date', 'dob', 'ecl_mdd', 'etn_mdd', 'edh_mdd']]\n",
    "mdd_ids_select.rename(index=str, columns={\"ecl_mdd\": \"MDD Episode Length\", \"etn_mdd\": \"Lifetime # Depress Eps\", \"edh_mdd\":\"Lifetime MDE history Length yrs\"}, inplace = True)\n",
    "\n",
    "mdd_ids_select.to_csv(\"Cleaned_df_7.23.csv\")"
   ]
  },
  {
   "cell_type": "code",
   "execution_count": null,
   "metadata": {},
   "outputs": [],
   "source": [
    "\n"
   ]
  },
  {
   "cell_type": "code",
   "execution_count": null,
   "metadata": {},
   "outputs": [],
   "source": []
  }
 ],
 "metadata": {
  "kernelspec": {
   "display_name": "Python 3",
   "language": "python",
   "name": "python3"
  },
  "language_info": {
   "codemirror_mode": {
    "name": "ipython",
    "version": 3
   },
   "file_extension": ".py",
   "mimetype": "text/x-python",
   "name": "python",
   "nbconvert_exporter": "python",
   "pygments_lexer": "ipython3",
   "version": "3.6.4"
  }
 },
 "nbformat": 4,
 "nbformat_minor": 2
}
