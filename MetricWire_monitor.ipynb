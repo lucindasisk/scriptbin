{
 "cells": [
  {
   "cell_type": "code",
   "execution_count": 18,
   "metadata": {},
   "outputs": [],
   "source": [
    "import pandas as pd\n",
    "import os\n",
    "import glob\n",
    "from datetime import date, timedelta\n",
    "import time\n",
    "from numpy import nan\n",
    "today = str(date.today())"
   ]
  },
  {
   "cell_type": "code",
   "execution_count": 19,
   "metadata": {},
   "outputs": [],
   "source": [
    "home='/Volumes/mooddata/ELS_RDoC/MetricWire/Survey Monitoring'\n",
    "idmaster = pd.read_csv(home + '/Exported Data/ELS Stanford Stress Study-participants.csv')\n",
    "    \n",
    "x = glob.glob(home +'/Exported Data/Dail*Emotio*.csv')\n",
    "for a in x:\n",
    "    Emotion = pd.read_csv(str(a))\n",
    "    Emotion['Survey_Emotion'] ='Emotion'\n",
    "y = glob.glob(home +'/Exported Data/Si*Ev*.csv')\n",
    "for a in y:\n",
    "    SigEv = pd.read_csv(str(a))\n",
    "    SigEv['Survey_SigEv'] = 'Signif. Events'\n",
    "w = glob.glob(home +'/Exported Data/Dail*Sleep*.csv')\n",
    "for a in w:\n",
    "    Sleep8am = pd.read_csv(str(a))\n",
    "    Sleep8am['Survey_Sleep8AM']='Sleep8AM'\n",
    "z = glob.glob(home +'/Exported Data/ELS*leep*.csv')\n",
    "for a in z:\n",
    "    ElsSleep = pd.read_csv(str(a))\n",
    "    ElsSleep['Survey_ELSSleep'] = 'ELS Sleep'"
   ]
  },
  {
   "cell_type": "code",
   "execution_count": 20,
   "metadata": {},
   "outputs": [],
   "source": [
    "#Clean MW and ELS IDs\n",
    "idmaster['ELS ID'] = idmaster['Name'].str.rstrip(' ELS-T3')\n",
    "idmaster.rename({'Identifier':'MW ID'}, axis=1, inplace=True)\n",
    "idmaster.replace('Not yet registered', nan, inplace=True)\n",
    "ids = idmaster[['ELS ID', 'MW ID','Enrolled']].dropna().reset_index()"
   ]
  },
  {
   "cell_type": "code",
   "execution_count": 21,
   "metadata": {},
   "outputs": [],
   "source": [
    "emo = Emotion[['Response Id', 'User Id', 'Survey Submitted Date','Survey_Emotion']]\n",
    "sigev = SigEv[['Response Id', 'User Id', 'Survey Submitted Date', 'Survey_SigEv']]\n",
    "sleep8 = Sleep8am[['Response Id', 'User Id', 'Survey Submitted Date', 'Survey_Sleep8AM']]  \n",
    "elssl = ElsSleep[['Response Id', 'User Id', 'Survey Submitted Date', 'Survey_ELSSleep']]\n",
    "\n",
    "alldf1 = pd.concat([emo,sigev,sleep8,elssl])\n",
    "alldf1['Submit_Date'] = pd.to_datetime(alldf1['Survey Submitted Date'], dayfirst=True)\n",
    "alldf = alldf1.rename(columns={'User Id':'MW ID', 'Response Id': 'Num_Responses'}).groupby('MW ID').count().reset_index()   \n",
    "finaldf = pd.merge(ids,alldf, on='MW ID', how = 'outer').drop('index', axis=1)\n",
    "finaldf.to_csv('/Users/myelin/Desktop/alldf_check.csv')"
   ]
  },
  {
   "cell_type": "code",
   "execution_count": 22,
   "metadata": {},
   "outputs": [],
   "source": [
    "users = finaldf['MW ID']"
   ]
  },
  {
   "cell_type": "code",
   "execution_count": 23,
   "metadata": {},
   "outputs": [],
   "source": [
    "#Get date of earliest submission\n",
    "\n",
    "start = []\n",
    "end = []\n",
    "def get_start_date(user, df):\n",
    "    userdf1 = df.loc[df['User Id'] == user].sort_values(by='Submit_Date', ascending=True)\n",
    "    try:\n",
    "        date1 = userdf1.iloc[0,1]\n",
    "        startinf = [user, date1]\n",
    "        start.append(startinf)\n",
    "    except:\n",
    "        print('Could not index {}.'.format(user))\n",
    "    userdf2 = df.loc[df['User Id'] == user].sort_values(by='Submit_Date', ascending=False)\n",
    "    try:\n",
    "        date2 = userdf2.iloc[0,1]\n",
    "        endinf = [user, date2]\n",
    "        end.append(endinf)\n",
    "    except:\n",
    "         print(' ')\n"
   ]
  },
  {
   "cell_type": "code",
   "execution_count": 24,
   "metadata": {},
   "outputs": [
    {
     "name": "stdout",
     "output_type": "stream",
     "text": [
      "Could not index 5b60c4a34b6e5a67337f2fe9.\n",
      " \n",
      "Could not index 5b60c41a5da23a67157abe88.\n",
      " \n",
      "Could not index 5bb93e39fe01cd16665c1712.\n",
      " \n",
      "Could not index 5c6f860b2c475043e81c0497.\n",
      " \n"
     ]
    }
   ],
   "source": [
    "for user in users:\n",
    "    get_start_date(user, alldf1)"
   ]
  },
  {
   "cell_type": "code",
   "execution_count": 25,
   "metadata": {},
   "outputs": [],
   "source": [
    "#Create df and column for start of surveys\n",
    "sdf = pd.DataFrame(start, columns=['MW ID', 'First_Survey'])\n",
    "sdf['First Survey'] = pd.to_datetime(sdf['First_Survey'], dayfirst=True)\n",
    "\n",
    "#Create df and column for end of surveys\n",
    "edf = pd.DataFrame(end, columns=['MW ID', 'Last_Survey'])\n",
    "edf['Last Survey'] = pd.to_datetime(edf['Last_Survey'], dayfirst=True)\n",
    "\n",
    "#Merge start & end columns\n",
    "startend = pd.merge(sdf, edf, on='MW ID', how = 'outer').drop(['First_Survey', 'Last_Survey'], axis=1)  \n",
    "\n",
    "#Add to final df\n",
    "final1 = pd.merge(finaldf, startend, on='MW ID', how = 'outer').drop(['Survey Submitted Date', 'Submit_Date'], axis=1)\n",
    "\n",
    "#Convert enrolled date to DT, count days since enrolled\n",
    "final1['Enrolled DT'] = pd.to_datetime(final1['Enrolled'], dayfirst=True)\n",
    "final1['Days Since Enrolled'] = (date.today()-final1['Enrolled DT'])\n",
    "final = final1.drop('Enrolled', axis=1)\n",
    "final.sort_values(by='Enrolled DT', ascending = False, inplace=True)\n",
    "\n",
    "#Write to CSV\n",
    "final.to_csv(home+'/Monitoring/MetricWire_Monitoring_'+today+'.csv', index=False)\n",
    "\n"
   ]
  },
  {
   "cell_type": "code",
   "execution_count": null,
   "metadata": {},
   "outputs": [],
   "source": []
  }
 ],
 "metadata": {
  "kernelspec": {
   "display_name": "Python 3",
   "language": "python",
   "name": "python3"
  },
  "language_info": {
   "codemirror_mode": {
    "name": "ipython",
    "version": 3
   },
   "file_extension": ".py",
   "mimetype": "text/x-python",
   "name": "python",
   "nbconvert_exporter": "python",
   "pygments_lexer": "ipython3",
   "version": "3.6.4"
  },
  "toc": {
   "base_numbering": 1,
   "nav_menu": {},
   "number_sections": true,
   "sideBar": true,
   "skip_h1_title": false,
   "title_cell": "Table of Contents",
   "title_sidebar": "Contents",
   "toc_cell": false,
   "toc_position": {},
   "toc_section_display": true,
   "toc_window_display": false
  }
 },
 "nbformat": 4,
 "nbformat_minor": 2
}
