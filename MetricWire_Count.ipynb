{
 "cells": [
  {
   "cell_type": "code",
   "execution_count": 1,
   "metadata": {
    "collapsed": true
   },
   "outputs": [],
   "source": [
    "import pandas as pd\n",
    "import os\n",
    "import glob\n"
   ]
  },
  {
   "cell_type": "code",
   "execution_count": 2,
   "metadata": {},
   "outputs": [
    {
     "name": "stdout",
     "output_type": "stream",
     "text": [
      "Please make sure that there is only one version of each survey in the MetricWire/Surveys folder. \n",
      "Otherwise, the script will pull all versions of that survey and things will get confusing.\n"
     ]
    }
   ],
   "source": [
    "print('Please make sure that there is only one version of each survey in the MetricWire/Surveys folder. ')\n",
    "print('Otherwise, the script will pull all versions of that survey and things will get confusing.')\n",
    "\n",
    "x = glob.glob('Dail*Emotio*.csv')\n",
    "for a in x:\n",
    "    Emotion = pd.read_csv(str(a))\n",
    "\n",
    "y = glob.glob('Si*Ev*.csv')\n",
    "for a in y:\n",
    "    SigEv = pd.read_csv(str(a))\n",
    "\n",
    "w = glob.glob('Dail*Sleep*.csv')\n",
    "for a in w:\n",
    "    Sleep8am = pd.read_csv(str(a))\n",
    "\n",
    "z = glob.glob('ELS*leep*.csv')\n",
    "for a in z:\n",
    "    ElsSleep = pd.read_csv(str(a))\n"
   ]
  },
  {
   "cell_type": "code",
   "execution_count": 41,
   "metadata": {},
   "outputs": [
    {
     "name": "stdout",
     "output_type": "stream",
     "text": [
      "Please enter the MetricWire ID for the subject you wish to check: 5af25f1525397b45e1043ed8\n",
      "***********************************************************************************\n",
      "** Daily Emotion Trigger: 'This survey asks about your emotion throughout the day. **'\n",
      "** Significant Events Trigger: 'Significant Events' **\n",
      "** Daily Sleep 8 AM Trigger: 'Please answer these few questions about how you slept last night.' **\n",
      "** ELS Sleep Trigger: 'ONCE Trigger' **\n",
      "***********************************************************************************\n",
      " \n",
      "***********************************************************************************\n",
      "Trigger: This survey asks about your emotion throughout the day.\n",
      "***********************************************************************************\n",
      " \n",
      "User 5af25f1525397b45e1043ed8 completed 6 surveys on the following days: \n",
      "                       Response Count\n",
      "Survey Submitted Date                \n",
      "03/06/2018                          1\n",
      "04/06/2018                          2\n",
      "06/06/2018                          1\n",
      "29/10/2018                          1\n",
      "30/10/2018                          1\n",
      " \n",
      "***********************************************************************************\n",
      "Trigger: Significant Events\n",
      "***********************************************************************************\n",
      " \n",
      "User 5af25f1525397b45e1043ed8 completed 9 surveys on the following days: \n",
      "                       Response Count\n",
      "Survey Submitted Date                \n",
      "03/06/2018                          1\n",
      "04/06/2018                          3\n",
      "05/06/2018                          1\n",
      "06/06/2018                          2\n",
      "07/06/2018                          1\n",
      "29/10/2018                          1\n",
      " \n",
      "***********************************************************************************\n",
      "Trigger: Please answer these few questions about how you slept last night.\n",
      "***********************************************************************************\n",
      " \n",
      "User 5af25f1525397b45e1043ed8 completed 4 surveys on the following days: \n",
      "                       Response Count\n",
      "Survey Submitted Date                \n",
      "04/06/2018                          1\n",
      "05/06/2018                          1\n",
      "06/06/2018                          1\n",
      "30/10/2018                          1\n",
      " \n",
      "***********************************************************************************\n",
      "Trigger: ONCE Trigger\n",
      "***********************************************************************************\n",
      " \n",
      "User 5af25f1525397b45e1043ed8 completed 1 surveys on the following days: \n",
      "                       Response Count\n",
      "Survey Submitted Date                \n",
      "17/06/2018                          1\n"
     ]
    }
   ],
   "source": [
    "subject = input(\"Please enter the MetricWire ID for the subject you wish to check: \")\n",
    "\n",
    "surveys = (Emotion, SigEv, Sleep8am, ElsSleep)\n",
    "\n",
    "print('***********************************************************************************')\n",
    "print(\"** Daily Emotion Trigger: 'This survey asks about your emotion throughout the day. **'\")\n",
    "print(\"** Significant Events Trigger: 'Significant Events' **\" )\n",
    "print(\"** Daily Sleep 8 AM Trigger: 'Please answer these few questions about how you slept last night.' **\")\n",
    "print(\"** ELS Sleep Trigger: 'ONCE Trigger' **\")\n",
    "print('***********************************************************************************')\n",
    "\n",
    "total_complete = []\n",
    "for survey in surveys:\n",
    "    trigger = survey['Trigger Name'].loc[0]\n",
    "    print(' ')\n",
    "    print('***********************************************************************************')\n",
    "    print('Trigger: {}'.format(trigger))\n",
    "    print('***********************************************************************************')\n",
    "    print(' ')\n",
    "    user_subset = survey.loc[survey['User Id'] == subject]\n",
    "    num_surveys = len(user_subset)\n",
    "    dates = user_subset.groupby('Survey Submitted Date').aggregate('count')\n",
    "    sdates = dates[['Response Id']].rename(columns = {'Response Id':'Response Count'})\n",
    "    total_complete.append(num_surveys)\n",
    "    total = sum(total_complete)\n",
    "    perc_comp1 = (total/99)*100\n",
    "    perc_comp = float(\"{0:.2f}\".format(perc_comp1))\n",
    "    print('User {} completed {} surveys on the following days: \\n{}'.format(subject, num_surveys, sdates))"
   ]
  },
  {
   "cell_type": "code",
   "execution_count": 4,
   "metadata": {},
   "outputs": [
    {
     "name": "stdout",
     "output_type": "stream",
     "text": [
      "***********************************************************************************\n",
      " \n",
      "Out of 99 possible surveys, ID 5af25f1525397b45e1043ed8 has completed 20 surveys, or 20.2% of all possible surveys\n",
      "***********************************************************************************\n",
      " \n"
     ]
    }
   ],
   "source": [
    "print('***********************************************************************************')\n",
    "print(' ')\n",
    "print('Out of 99 possible surveys, ID {} has completed {} surveys, or {}% of all possible surveys'.format(subject, total, perc_comp))\n",
    "print('***********************************************************************************')\n",
    "print(' ')\n"
   ]
  },
  {
   "cell_type": "code",
   "execution_count": 37,
   "metadata": {},
   "outputs": [
    {
     "name": "stdout",
     "output_type": "stream",
     "text": [
      " \n",
      "***********************************************************************************\n",
      "Trigger: This survey asks about your emotion throughout the day.\n",
      "***********************************************************************************\n",
      " \n",
      "User 5af25f1525397b45e1043ed8 completed 6 surveys on the following days: \n",
      "                       Response Count\n",
      "Survey Submitted Date                \n",
      "03/06/2018                          1\n",
      "04/06/2018                          2\n",
      "06/06/2018                          1\n",
      "29/10/2018                          1\n",
      "30/10/2018                          1\n"
     ]
    }
   ],
   "source": [
    "trigger = survey['Trigger Name'].loc[0]\n",
    "print(' ')\n",
    "print('***********************************************************************************')\n",
    "print('Trigger: {}'.format(trigger))\n",
    "print('***********************************************************************************')\n",
    "print(' ')\n",
    "user_subset = survey.loc[survey['User Id'] == subject]\n",
    "num_surveys = len(user_subset)\n",
    "dates = user_subset.groupby('Survey Submitted Date').aggregate('count')\n",
    "sdates = dates[['Response Id']].rename(columns = {'Response Id':'Response Count'})\n",
    "total_complete.append(num_surveys)\n",
    "total = sum(total_complete)\n",
    "perc_comp1 = (total/99)*100\n",
    "perc_comp = float(\"{0:.2f}\".format(perc_comp1))\n",
    "print('User {} completed {} surveys on the following days: \\n{}'.format(subject, num_surveys, sdates))"
   ]
  },
  {
   "cell_type": "code",
   "execution_count": 38,
   "metadata": {},
   "outputs": [],
   "source": [
    "dates = user_subset.groupby('Survey Submitted Date').aggregate('count')\n",
    "sdates = dates[['Response Id']].rename(columns = {'Response Id':'Num Responses'})"
   ]
  },
  {
   "cell_type": "code",
   "execution_count": 39,
   "metadata": {},
   "outputs": [
    {
     "data": {
      "text/html": [
       "<div>\n",
       "<style>\n",
       "    .dataframe thead tr:only-child th {\n",
       "        text-align: right;\n",
       "    }\n",
       "\n",
       "    .dataframe thead th {\n",
       "        text-align: left;\n",
       "    }\n",
       "\n",
       "    .dataframe tbody tr th {\n",
       "        vertical-align: top;\n",
       "    }\n",
       "</style>\n",
       "<table border=\"1\" class=\"dataframe\">\n",
       "  <thead>\n",
       "    <tr style=\"text-align: right;\">\n",
       "      <th></th>\n",
       "      <th>Num Responses</th>\n",
       "      <th>Reimbursement</th>\n",
       "    </tr>\n",
       "    <tr>\n",
       "      <th>Survey Submitted Date</th>\n",
       "      <th></th>\n",
       "      <th></th>\n",
       "    </tr>\n",
       "  </thead>\n",
       "  <tbody>\n",
       "    <tr>\n",
       "      <th>03/06/2018</th>\n",
       "      <td>1</td>\n",
       "      <td>2</td>\n",
       "    </tr>\n",
       "    <tr>\n",
       "      <th>04/06/2018</th>\n",
       "      <td>2</td>\n",
       "      <td>2</td>\n",
       "    </tr>\n",
       "    <tr>\n",
       "      <th>06/06/2018</th>\n",
       "      <td>1</td>\n",
       "      <td>2</td>\n",
       "    </tr>\n",
       "    <tr>\n",
       "      <th>29/10/2018</th>\n",
       "      <td>1</td>\n",
       "      <td>2</td>\n",
       "    </tr>\n",
       "    <tr>\n",
       "      <th>30/10/2018</th>\n",
       "      <td>1</td>\n",
       "      <td>2</td>\n",
       "    </tr>\n",
       "  </tbody>\n",
       "</table>\n",
       "</div>"
      ],
      "text/plain": [
       "                       Num Responses  Reimbursement\n",
       "Survey Submitted Date                              \n",
       "03/06/2018                         1              2\n",
       "04/06/2018                         2              2\n",
       "06/06/2018                         1              2\n",
       "29/10/2018                         1              2\n",
       "30/10/2018                         1              2"
      ]
     },
     "execution_count": 39,
     "metadata": {},
     "output_type": "execute_result"
    }
   ],
   "source": [
    "sdates"
   ]
  },
  {
   "cell_type": "code",
   "execution_count": null,
   "metadata": {
    "collapsed": true
   },
   "outputs": [],
   "source": []
  }
 ],
 "metadata": {
  "kernelspec": {
   "display_name": "Python 3",
   "language": "python",
   "name": "python3"
  },
  "language_info": {
   "codemirror_mode": {
    "name": "ipython",
    "version": 3
   },
   "file_extension": ".py",
   "mimetype": "text/x-python",
   "name": "python",
   "nbconvert_exporter": "python",
   "pygments_lexer": "ipython3",
   "version": "3.6.3"
  },
  "toc": {
   "base_numbering": 1,
   "nav_menu": {},
   "number_sections": true,
   "sideBar": true,
   "skip_h1_title": false,
   "title_cell": "Table of Contents",
   "title_sidebar": "Contents",
   "toc_cell": false,
   "toc_position": {},
   "toc_section_display": true,
   "toc_window_display": false
  }
 },
 "nbformat": 4,
 "nbformat_minor": 2
}
