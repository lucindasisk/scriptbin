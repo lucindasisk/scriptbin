{
 "cells": [
  {
   "cell_type": "code",
   "execution_count": 2,
   "metadata": {},
   "outputs": [
    {
     "name": "stderr",
     "output_type": "stream",
     "text": [
      "/usr/local/anaconda3/lib/python3.6/importlib/_bootstrap.py:219: RuntimeWarning: numpy.dtype size changed, may indicate binary incompatibility. Expected 96, got 88\n",
      "  return f(*args, **kwds)\n"
     ]
    }
   ],
   "source": [
    "import pandas as pd\n",
    "from numpy import savetxt\n",
    "import glob\n",
    "from shutil import copyfile\n",
    "import gzip\n",
    "import os"
   ]
  },
  {
   "cell_type": "code",
   "execution_count": 34,
   "metadata": {},
   "outputs": [],
   "source": [
    "timepoint = input('Which timepoint would you like to check IDs for? Enter \"newborn\" or \"6month\":   ')\n",
    "if timepoint == 'newborn':\n",
    "    ibeat = '/Volumes/group/active/BABIES/BABIES_ibeat/subjDir/BABIES_Newborn'\n",
    "    raw = '/Volumes/group/active/BABIES/BABIES_Newborn'\n",
    "elif timepoint == '6month':\n",
    "    ibeat = '/Volumes/group/active/BABIES/BABIES_ibeat/subjDir/BABIES_6month'\n",
    "    raw = '/Volumes/group/active/BABIES/BABIES_6month'  \n",
    "else:\n",
    "    print('Timepoint not recognized')"
   ]
  },
  {
   "cell_type": "code",
   "execution_count": 35,
   "metadata": {},
   "outputs": [
    {
     "name": "stdout",
     "output_type": "stream",
     "text": [
      "All raw subs extracted from /Volumes/group/active/BABIES/BABIES_6month\n",
      "All ibeat subs extracted from /Volumes/group/active/BABIES/BABIES_ibeat/subjDir/BABIES_6month\n"
     ]
    }
   ],
   "source": [
    "raw_ids = [] #Abbreviated subject name: e.g. 125\n",
    "raw_sublist = [] #Full subject name: e.g 125-C-T1\n",
    "ibeat_ids = [] #Abbreviated subject name: e.g. 125\n",
    "ibeat_sublist = [] #Full subject name: e.g 125-C-T1\n",
    "\n",
    "def get_rawsubs(path, sublist, ids):\n",
    "    subpaths = glob.glob(path + '/*-*-*')\n",
    "    for sub in subpaths:\n",
    "        sub1 = sub.replace(path+'/', '')\n",
    "        sublist.append(sub1)\n",
    "        sub2 = sub1.replace('-C-T1', '').replace('-L-T2', '').replace('-L-T3', '')\n",
    "        ids.append(sub2)\n",
    "    return print('All raw subs extracted from {}'.format(path))\n",
    "\n",
    "def get_ibeatsubs(path, sublist, ids):\n",
    "    subpaths = glob.glob(path + '/T*')\n",
    "    for sub in subpaths:\n",
    "        sub1 = sub.replace(path+'/', '')\n",
    "        sublist.append(sub1)\n",
    "        sub2 = sub1.replace('T1', '').replace('T2', '')\n",
    "        ids.append(sub2)\n",
    "    return print('All ibeat subs extracted from {}'.format(path))\n",
    "get_rawsubs(raw, raw_sublist, raw_ids)\n",
    "get_ibeatsubs(ibeat, ibeat_sublist, ibeat_ids)"
   ]
  },
  {
   "cell_type": "code",
   "execution_count": 36,
   "metadata": {},
   "outputs": [
    {
     "name": "stdout",
     "output_type": "stream",
     "text": [
      "IBEAT folder for 122 already created\n",
      "IBEAT folder for 1057 already created\n",
      "IBEAT folder for 140 already created\n",
      "IBEAT folder for 1029 already created\n",
      "IBEAT folder for 020 already created\n",
      "IBEAT folder for 067 already created\n",
      "IBEAT folder for 064x already created\n",
      "IBEAT folder for 132 already created\n",
      "IBEAT folder for 056 already created\n",
      "IBEAT folder for 1043 already created\n",
      "IBEAT folder for 1010 already created\n",
      "IBEAT folder for 102 already created\n",
      "IBEAT folder for 1024 already created\n",
      "IBEAT folder for 035 already created\n",
      "IBEAT folder for 137 already created\n",
      "IBEAT folder for 062 already created\n",
      "IBEAT folder for 106 already created\n",
      "IBEAT folder for 1011 already created\n",
      "IBEAT folder for 033x already created\n",
      "IBEAT folder for 1020 already created\n",
      "IBEAT folder for 031 already created\n",
      "IBEAT folder for 112 already created\n",
      "028x needs to be run\n",
      "IBEAT folder for 123 already created\n",
      "IBEAT folder for 025 already created\n",
      "IBEAT folder for 087 already created\n",
      "IBEAT folder for 1005 already created\n",
      "IBEAT folder for 127 already created\n",
      "IBEAT folder for 1063 already created\n",
      "IBEAT folder for 072 already created\n",
      "IBEAT folder for 039 already created\n",
      "IBEAT folder for 010 already created\n",
      "IBEAT folder for 021 already created\n",
      "064 needs to be run\n",
      "IBEAT folder for 100 already created\n",
      "IBEAT folder for 002x already created\n",
      "IBEAT folder for 131 already created\n",
      "IBEAT folder for 129 already created\n",
      "IBEAT folder for 135 already created\n",
      "IBEAT folder for 104 already created\n",
      "IBEAT folder for 002 already created\n",
      "1069 needs to be run\n",
      "077x needs to be run\n",
      "IBEAT folder for 091 already created\n",
      "IBEAT folder for 110 already created\n",
      "IBEAT folder for 045 already created\n",
      "IBEAT folder for 1036 already created\n",
      "IBEAT folder for 143 already created\n",
      "IBEAT folder for 027 already created\n",
      "IBEAT folder for 108 already created\n",
      "IBEAT folder for 125 already created\n",
      "IBEAT folder for 099 already created\n",
      "IBEAT folder for 012 already created\n",
      "IBEAT folder for 076x already created\n",
      "IBEAT folder for 023 already created\n",
      "IBEAT folder for 1037 already created\n",
      "IBEAT folder for 109 already created\n",
      "IBEAT folder for 124 already created\n",
      "IBEAT folder for 040 already created\n",
      "IBEAT folder for 115 already created\n",
      "IBEAT folder for 1078 already created\n",
      "IBEAT folder for 1033 already created\n",
      "IBEAT folder for 065 already created\n",
      "IBEAT folder for 036 already created\n",
      "IBEAT folder for 1027 already created\n",
      "IBEAT folder for 088 already created\n",
      "IBEAT folder for 061 already created\n",
      "IBEAT folder for 105 already created\n",
      "IBEAT folder for 032 already created\n",
      "IBEAT folder for 1023 already created\n"
     ]
    }
   ],
   "source": [
    "to_run = []\n",
    "for sub in raw_ids:\n",
    "    if sub in ibeat_ids:\n",
    "        print('IBEAT folder for {} already created'.format(sub))\n",
    "    else:\n",
    "        print('{} needs to be run'.format(sub))\n",
    "        to_run.append(sub)"
   ]
  },
  {
   "cell_type": "code",
   "execution_count": 65,
   "metadata": {},
   "outputs": [
    {
     "name": "stdout",
     "output_type": "stream",
     "text": [
      "Which sub out of ['028x', '064', '1069', '077x'] would you like to make folders for?1059 028x\n"
     ]
    }
   ],
   "source": [
    "run = input('Which sub out of {} would you like to make folders for?'.format(to_run))"
   ]
  },
  {
   "cell_type": "code",
   "execution_count": 68,
   "metadata": {},
   "outputs": [],
   "source": [
    "to_run = run.split()\n",
    "to_run.sort()\n",
    "if timepoint == 'newborn':\n",
    "    file = open('sublistNB_frompy.txt', 'w')\n",
    "    for x in to_run:\n",
    "        file.write(\"{}\\n\".format(x))\n",
    "elif timepoint == '6month':\n",
    "    file = open('sublist6mo_frompy.txt', 'w')\n",
    "    for x in to_run:\n",
    "        file.write(\"{}\\n\".format(x))\n",
    "else:\n",
    "    print('Timepoint not recgonized')\n",
    "    "
   ]
  },
  {
   "cell_type": "code",
   "execution_count": null,
   "metadata": {},
   "outputs": [],
   "source": []
  },
  {
   "cell_type": "code",
   "execution_count": 18,
   "metadata": {},
   "outputs": [],
   "source": []
  },
  {
   "cell_type": "code",
   "execution_count": null,
   "metadata": {},
   "outputs": [],
   "source": []
  }
 ],
 "metadata": {
  "kernelspec": {
   "display_name": "Python 3",
   "language": "python",
   "name": "python3"
  },
  "language_info": {
   "codemirror_mode": {
    "name": "ipython",
    "version": 3
   },
   "file_extension": ".py",
   "mimetype": "text/x-python",
   "name": "python",
   "nbconvert_exporter": "python",
   "pygments_lexer": "ipython3",
   "version": "3.6.4"
  }
 },
 "nbformat": 4,
 "nbformat_minor": 2
}
